{
 "cells": [
  {
   "cell_type": "code",
   "execution_count": 2,
   "id": "d9bf8aa3",
   "metadata": {},
   "outputs": [],
   "source": [
    "import pandas as pd\n",
    "import re"
   ]
  },
  {
   "cell_type": "code",
   "execution_count": 4,
   "id": "e28c4eae",
   "metadata": {},
   "outputs": [
    {
     "name": "stderr",
     "output_type": "stream",
     "text": [
      "C:\\Users\\Wendy\\AppData\\Local\\Temp\\ipykernel_15388\\3864123859.py:1: DtypeWarning: Columns (3,6) have mixed types. Specify dtype option on import or set low_memory=False.\n",
      "  df = pd.read_csv('logbook_assignment1.csv')\n"
     ]
    }
   ],
   "source": [
    "df = pd.read_csv('logbook_assignment1.csv')"
   ]
  },
  {
   "cell_type": "code",
   "execution_count": null,
   "id": "6b1516aa",
   "metadata": {},
   "outputs": [],
   "source": [
    "#2.1\n",
    "\n",
    "def extract_currency(value):\n",
    "    if pd.isnull(value):\n",
    "        return None\n",
    "    match = re.match(r\"^([^\\d.]+)\", str(value)) \n",
    "    return match.group(1).strip() if match else None\n",
    "\n",
    "df[\"currency\"] = df[\"total_spent\"].apply(extract_currency)"
   ]
  },
  {
   "cell_type": "code",
   "execution_count": 15,
   "id": "4a049a12",
   "metadata": {},
   "outputs": [],
   "source": [
    "#2.2\n",
    "\n",
    "def to_float(value):\n",
    "    if pd.isnull(value):\n",
    "        return None\n",
    "    cleaned = re.sub(r\"[^\\d.]\", \"\", str(value)) \n",
    "    try:\n",
    "        return float(cleaned)\n",
    "    except:\n",
    "        return None\n",
    "\n",
    "df[\"total_spent_float\"] = df[\"total_spent\"].apply(to_float)\n",
    "df[\"cost_per_gallon_float\"] = df[\"cost_per_gallon\"].apply(to_float)\n"
   ]
  },
  {
   "cell_type": "code",
   "execution_count": 16,
   "id": "f91c10f1",
   "metadata": {},
   "outputs": [],
   "source": [
    "#2.3\n",
    "\n",
    "def parse_user_url(url):\n",
    "    try:\n",
    "        parts = url.strip(\"/\").split(\"/\")\n",
    "        user_id = parts[-1]\n",
    "        car_make, car_model, car_year = None, None, None\n",
    "        if \"car\" in parts:\n",
    "            idx = parts.index(\"car\")\n",
    "            if len(parts) > idx + 3:\n",
    "                car_make = parts[idx + 1]\n",
    "                car_model = parts[idx + 2]\n",
    "                car_year = parts[idx + 3] if parts[idx + 3].isdigit() else None\n",
    "        return pd.Series([car_make, car_model, car_year, user_id])\n",
    "    except:\n",
    "        return pd.Series([None, None, None, None])\n",
    "\n",
    "df[[\"car_make\", \"car_model\", \"car_year\", \"user_id\"]] = df[\"user_url\"].apply(parse_user_url)"
   ]
  },
  {
   "cell_type": "code",
   "execution_count": null,
   "id": "edbb15dc",
   "metadata": {},
   "outputs": [],
   "source": [
    "#2.4\n",
    "\n",
    "df[\"litres_filled\"] = pd.to_numeric(df[\"gallons\"], errors=\"coerce\") * 3.78541\n",
    "df[\"km_driven\"] = pd.to_numeric(df[\"miles\"], errors=\"coerce\") * 1.60934\n",
    "df[\"litres_per_100km\"] = (df[\"litres_filled\"] / df[\"km_driven\"]) * 100\n"
   ]
  },
  {
   "cell_type": "code",
   "execution_count": null,
   "id": "1b51327a",
   "metadata": {},
   "outputs": [],
   "source": [
    "print(df[[\n",
    "    \"currency\", \"total_spent_float\", \"cost_per_gallon_float\",\n",
    "    \"car_make\", \"car_model\", \"car_year\", \"user_id\",\n",
    "    \"litres_filled\", \"km_driven\", \"litres_per_100km\"\n",
    "]].head())"
   ]
  }
 ],
 "metadata": {
  "kernelspec": {
   "display_name": "myenv",
   "language": "python",
   "name": "python3"
  },
  "language_info": {
   "codemirror_mode": {
    "name": "ipython",
    "version": 3
   },
   "file_extension": ".py",
   "mimetype": "text/x-python",
   "name": "python",
   "nbconvert_exporter": "python",
   "pygments_lexer": "ipython3",
   "version": "3.11.13"
  }
 },
 "nbformat": 4,
 "nbformat_minor": 5
}
