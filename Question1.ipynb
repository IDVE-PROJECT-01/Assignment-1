{
 "cells": [
  {
   "cell_type": "code",
<<<<<<< HEAD
   "execution_count": 39,
=======
   "execution_count": 17,
>>>>>>> 29789f1fa4af3bd777b1fcde1fd8adbb9cff8955
   "id": "8336a2fa",
   "metadata": {},
   "outputs": [],
   "source": [
    "import pandas as pd\n",
    "import matplotlib.pyplot as plt\n",
    "import seaborn as sns\n",
    "import matplotlib.pyplot as plt\n",
    "import numpy as np\n",
    "\n"
   ]
  },
  {
   "cell_type": "code",
<<<<<<< HEAD
   "execution_count": 40,
=======
   "execution_count": 18,
>>>>>>> 29789f1fa4af3bd777b1fcde1fd8adbb9cff8955
   "id": "66ecdb35",
   "metadata": {},
   "outputs": [
    {
     "name": "stderr",
     "output_type": "stream",
     "text": [
      "C:\\Users\\Taboka Chloé Dube\\AppData\\Local\\Temp\\ipykernel_17448\\1174220521.py:1: DtypeWarning: Columns (3,6) have mixed types. Specify dtype option on import or set low_memory=False.\n",
      "  df = pd.read_csv('logbook_assignment1.csv')\n",
      "C:\\Users\\Taboka Chloé Dube\\AppData\\Local\\Temp\\ipykernel_17448\\1174220521.py:2: DtypeWarning: Columns (3,6) have mixed types. Specify dtype option on import or set low_memory=False.\n",
      "  df2 = pd.read_csv('logbook_assignment1.csv')\n",
      "C:\\Users\\Taboka Chloé Dube\\AppData\\Local\\Temp\\ipykernel_17448\\1174220521.py:3: DtypeWarning: Columns (3,6) have mixed types. Specify dtype option on import or set low_memory=False.\n",
      "  df3 = pd.read_csv('logbook_assignment1.csv')\n"
     ]
    },
    {
     "name": "stdout",
     "output_type": "stream",
     "text": [
      "1174870\n"
     ]
    }
   ],
   "source": [
    "df = pd.read_csv('logbook_assignment1.csv')\n",
    "df2 = pd.read_csv('logbook_assignment1.csv')\n",
    "df3 = pd.read_csv('logbook_assignment1.csv')\n",
    "# let's print out how many entries there are in the dataset\n",
    "print(len(df))"
   ]
  },
  {
   "cell_type": "code",
<<<<<<< HEAD
   "execution_count": 41,
=======
   "execution_count": 19,
>>>>>>> 29789f1fa4af3bd777b1fcde1fd8adbb9cff8955
   "id": "a50b8c53",
   "metadata": {},
   "outputs": [
    {
     "name": "stdout",
     "output_type": "stream",
     "text": [
      "                                               date_fueled date_captured  \\\n",
      "0        Cooling System, Heating System, Lights, Spark ...    Apr 7 2022   \n",
      "1                                               Nov 7 2012   Aug 30 2016   \n",
      "2                                              Sep 22 2012   Sep 28 2012   \n",
      "3                                               May 4 2019    May 4 2019   \n",
      "4                                              Feb 15 2022   Feb 15 2022   \n",
      "...                                                    ...           ...   \n",
      "1174865                                        Feb 19 2020   Feb 19 2020   \n",
      "1174866                                         Dec 6 2019    Dec 6 2019   \n",
      "1174867                                         Oct 4 2021    Oct 4 2021   \n",
      "1174868                                        Jul 26 2021   Jul 26 2021   \n",
      "1174869                                        Mar 12 2019   Mar 12 2019   \n",
      "\n",
      "         odometer gallons cost_per_gallon total_spent   mpg    miles  \\\n",
      "0         73,370      NaN             NaN         NaN   NaN      NaN   \n",
      "1         11,983   12.120          $5.599      $67.86  31.6      NaN   \n",
      "2         98,233    7.991           £5.45      £43.53  28.5      NaN   \n",
      "3        163,802   10.575           £5.11      £54.00  46.8      NaN   \n",
      "4             NaN  11.651          $3.029      $35.29  21.0   244.4    \n",
      "...           ...     ...             ...         ...   ...      ...   \n",
      "1174865  118,237   13.046          $1.999      $26.08  25.7      NaN   \n",
      "1174866  141,761   12.637          $2.449      $30.95  20.0      NaN   \n",
      "1174867   65,029   10.002          $3.449      $34.50  28.5      NaN   \n",
      "1174868   15,255   10.493          $3.539      $37.13  36.5      NaN   \n",
      "1174869  204,774   17.350          $3.199      $55.50   0.0      NaN   \n",
      "\n",
      "                                                  user_url  \n",
      "0        https://www.somewebsite.com/suzuki/swift/2015/...  \n",
      "1           https://www.somewebsite.com/bmw/x3/2009/461150  \n",
      "2        https://www.somewebsite.com/mercedes-benz/e300...  \n",
      "3         https://www.somewebsite.com/bmw/320d/2010/247233  \n",
      "4        https://www.somewebsite.com/honda/passport/201...  \n",
      "...                                                    ...  \n",
      "1174865  https://www.somewebsite.com/volkswagen/beetle/...  \n",
      "1174866  https://www.somewebsite.com/toyota/avalon/2000...  \n",
      "1174867   https://www.somewebsite.com/fiat/500/2013/909694  \n",
      "1174868  https://www.somewebsite.com/mini/cooper/2019/9...  \n",
      "1174869  https://www.somewebsite.com/lexus/lx470/2001/8...  \n",
      "\n",
      "[1174870 rows x 9 columns]\n"
     ]
    }
   ],
   "source": [
    "print(df)"
   ]
  },
  {
   "cell_type": "code",
<<<<<<< HEAD
   "execution_count": 42,
=======
   "execution_count": 20,
>>>>>>> 29789f1fa4af3bd777b1fcde1fd8adbb9cff8955
   "id": "243405dc",
   "metadata": {},
   "outputs": [
    {
     "data": {
      "text/plain": [
       "date_fueled        object\n",
       "date_captured      object\n",
       "odometer           object\n",
       "gallons            object\n",
       "cost_per_gallon    object\n",
       "total_spent        object\n",
       "mpg                object\n",
       "miles              object\n",
       "user_url           object\n",
       "dtype: object"
      ]
     },
<<<<<<< HEAD
     "execution_count": 42,
=======
     "execution_count": 20,
>>>>>>> 29789f1fa4af3bd777b1fcde1fd8adbb9cff8955
     "metadata": {},
     "output_type": "execute_result"
    }
   ],
   "source": [
    "df.describe()\n",
    "df.dtypes"
   ]
  },
  {
   "cell_type": "code",
<<<<<<< HEAD
   "execution_count": 43,
=======
   "execution_count": 21,
>>>>>>> 29789f1fa4af3bd777b1fcde1fd8adbb9cff8955
   "id": "49e9c5fa",
   "metadata": {},
   "outputs": [
    {
     "name": "stdout",
     "output_type": "stream",
     "text": [
      "1. 11.68% of rows don't match the correct date format.\n"
     ]
    }
   ],
   "source": [
    "#1.1\n",
    "pattern = r'^[A-Z][a-z]{2} \\d{1,2} \\d{4}$'\n",
    "date_fuel = df2['date_fueled'].str.match(pattern)\n",
    "percentage = (date_fuel.sum() / len(df2)) * 100\n",
    "proportion = 100-percentage\n",
    "print(f\"1. {proportion:.2f}% of rows don't match the correct date format.\")"
   ]
  },
  {
   "cell_type": "code",
<<<<<<< HEAD
   "execution_count": 44,
=======
   "execution_count": 22,
>>>>>>> 29789f1fa4af3bd777b1fcde1fd8adbb9cff8955
   "id": "78877676",
   "metadata": {},
   "outputs": [
    {
     "name": "stdout",
     "output_type": "stream",
     "text": [
      "2.\n"
     ]
    },
    {
     "data": {
      "text/html": [
       "<div>\n",
       "<style scoped>\n",
       "    .dataframe tbody tr th:only-of-type {\n",
       "        vertical-align: middle;\n",
       "    }\n",
       "\n",
       "    .dataframe tbody tr th {\n",
       "        vertical-align: top;\n",
       "    }\n",
       "\n",
       "    .dataframe thead th {\n",
       "        text-align: right;\n",
       "    }\n",
       "</style>\n",
       "<table border=\"1\" class=\"dataframe\">\n",
       "  <thead>\n",
       "    <tr style=\"text-align: right;\">\n",
       "      <th></th>\n",
       "      <th>date_fueled</th>\n",
       "      <th>date_captured</th>\n",
       "      <th>odometer</th>\n",
       "      <th>gallons</th>\n",
       "      <th>cost_per_gallon</th>\n",
       "      <th>total_spent</th>\n",
       "      <th>mpg</th>\n",
       "      <th>miles</th>\n",
       "      <th>user_url</th>\n",
       "    </tr>\n",
       "  </thead>\n",
       "  <tbody>\n",
       "    <tr>\n",
       "      <th>0</th>\n",
       "      <td>Apr 7 2022</td>\n",
       "      <td>Apr 7 2022</td>\n",
       "      <td>73,370</td>\n",
       "      <td>NaN</td>\n",
       "      <td>NaN</td>\n",
       "      <td>NaN</td>\n",
       "      <td>NaN</td>\n",
       "      <td>NaN</td>\n",
       "      <td>https://www.somewebsite.com/suzuki/swift/2015/...</td>\n",
       "    </tr>\n",
       "    <tr>\n",
       "      <th>1</th>\n",
       "      <td>Nov 7 2012</td>\n",
       "      <td>Aug 30 2016</td>\n",
       "      <td>11,983</td>\n",
       "      <td>12.120</td>\n",
       "      <td>$5.599</td>\n",
       "      <td>$67.86</td>\n",
       "      <td>31.6</td>\n",
       "      <td>NaN</td>\n",
       "      <td>https://www.somewebsite.com/bmw/x3/2009/461150</td>\n",
       "    </tr>\n",
       "    <tr>\n",
       "      <th>2</th>\n",
       "      <td>Sep 22 2012</td>\n",
       "      <td>Sep 28 2012</td>\n",
       "      <td>98,233</td>\n",
       "      <td>7.991</td>\n",
       "      <td>£5.45</td>\n",
       "      <td>£43.53</td>\n",
       "      <td>28.5</td>\n",
       "      <td>NaN</td>\n",
       "      <td>https://www.somewebsite.com/mercedes-benz/e300...</td>\n",
       "    </tr>\n",
       "    <tr>\n",
       "      <th>3</th>\n",
       "      <td>May 4 2019</td>\n",
       "      <td>May 4 2019</td>\n",
       "      <td>163,802</td>\n",
       "      <td>10.575</td>\n",
       "      <td>£5.11</td>\n",
       "      <td>£54.00</td>\n",
       "      <td>46.8</td>\n",
       "      <td>NaN</td>\n",
       "      <td>https://www.somewebsite.com/bmw/320d/2010/247233</td>\n",
       "    </tr>\n",
       "    <tr>\n",
       "      <th>4</th>\n",
       "      <td>Feb 15 2022</td>\n",
       "      <td>Feb 15 2022</td>\n",
       "      <td>NaN</td>\n",
       "      <td>11.651</td>\n",
       "      <td>$3.029</td>\n",
       "      <td>$35.29</td>\n",
       "      <td>21.0</td>\n",
       "      <td>244.4</td>\n",
       "      <td>https://www.somewebsite.com/honda/passport/201...</td>\n",
       "    </tr>\n",
       "  </tbody>\n",
       "</table>\n",
       "</div>"
      ],
      "text/plain": [
       "   date_fueled date_captured  odometer gallons cost_per_gallon total_spent  \\\n",
       "0   Apr 7 2022    Apr 7 2022   73,370      NaN             NaN         NaN   \n",
       "1   Nov 7 2012   Aug 30 2016   11,983   12.120          $5.599      $67.86   \n",
       "2  Sep 22 2012   Sep 28 2012   98,233    7.991           £5.45      £43.53   \n",
       "3   May 4 2019    May 4 2019  163,802   10.575           £5.11      £54.00   \n",
       "4  Feb 15 2022   Feb 15 2022       NaN  11.651          $3.029      $35.29   \n",
       "\n",
       "    mpg    miles                                           user_url  \n",
       "0   NaN      NaN  https://www.somewebsite.com/suzuki/swift/2015/...  \n",
       "1  31.6      NaN     https://www.somewebsite.com/bmw/x3/2009/461150  \n",
       "2  28.5      NaN  https://www.somewebsite.com/mercedes-benz/e300...  \n",
       "3  46.8      NaN   https://www.somewebsite.com/bmw/320d/2010/247233  \n",
       "4  21.0   244.4   https://www.somewebsite.com/honda/passport/201...  "
      ]
     },
<<<<<<< HEAD
     "execution_count": 44,
=======
     "execution_count": 22,
>>>>>>> 29789f1fa4af3bd777b1fcde1fd8adbb9cff8955
     "metadata": {},
     "output_type": "execute_result"
    }
   ],
   "source": [
    "valid_fueled = df['date_fueled'].astype(str).str.match(pattern)\n",
    "valid_capture = df['date_captured'].astype(str).str.match(pattern)\n",
    "\n",
    "df.loc[~valid_fueled & valid_capture, 'date_fueled'] = df['date_captured']\n",
    "print(\"2.\")\n",
    "df.head()"
   ]
  },
  {
   "cell_type": "code",
<<<<<<< HEAD
   "execution_count": 45,
=======
   "execution_count": 23,
>>>>>>> 29789f1fa4af3bd777b1fcde1fd8adbb9cff8955
   "id": "d70baaf7",
   "metadata": {},
   "outputs": [
    {
     "name": "stdout",
     "output_type": "stream",
     "text": [
      "3.\n"
     ]
    },
    {
     "data": {
      "text/html": [
       "<div>\n",
       "<style scoped>\n",
       "    .dataframe tbody tr th:only-of-type {\n",
       "        vertical-align: middle;\n",
       "    }\n",
       "\n",
       "    .dataframe tbody tr th {\n",
       "        vertical-align: top;\n",
       "    }\n",
       "\n",
       "    .dataframe thead th {\n",
       "        text-align: right;\n",
       "    }\n",
       "</style>\n",
       "<table border=\"1\" class=\"dataframe\">\n",
       "  <thead>\n",
       "    <tr style=\"text-align: right;\">\n",
       "      <th></th>\n",
       "      <th>date_fueled</th>\n",
       "      <th>date_captured</th>\n",
       "      <th>odometer</th>\n",
       "      <th>gallons</th>\n",
       "      <th>cost_per_gallon</th>\n",
       "      <th>total_spent</th>\n",
       "      <th>mpg</th>\n",
       "      <th>miles</th>\n",
       "      <th>user_url</th>\n",
       "    </tr>\n",
       "  </thead>\n",
       "  <tbody>\n",
       "    <tr>\n",
       "      <th>0</th>\n",
       "      <td>2022-04-07</td>\n",
       "      <td>Apr 7 2022</td>\n",
       "      <td>73,370</td>\n",
       "      <td>NaN</td>\n",
       "      <td>NaN</td>\n",
       "      <td>NaN</td>\n",
       "      <td>NaN</td>\n",
       "      <td>NaN</td>\n",
       "      <td>https://www.somewebsite.com/suzuki/swift/2015/...</td>\n",
       "    </tr>\n",
       "    <tr>\n",
       "      <th>1</th>\n",
       "      <td>2012-11-07</td>\n",
       "      <td>Aug 30 2016</td>\n",
       "      <td>11,983</td>\n",
       "      <td>12.120</td>\n",
       "      <td>$5.599</td>\n",
       "      <td>$67.86</td>\n",
       "      <td>31.6</td>\n",
       "      <td>NaN</td>\n",
       "      <td>https://www.somewebsite.com/bmw/x3/2009/461150</td>\n",
       "    </tr>\n",
       "    <tr>\n",
       "      <th>2</th>\n",
       "      <td>2012-09-22</td>\n",
       "      <td>Sep 28 2012</td>\n",
       "      <td>98,233</td>\n",
       "      <td>7.991</td>\n",
       "      <td>£5.45</td>\n",
       "      <td>£43.53</td>\n",
       "      <td>28.5</td>\n",
       "      <td>NaN</td>\n",
       "      <td>https://www.somewebsite.com/mercedes-benz/e300...</td>\n",
       "    </tr>\n",
       "    <tr>\n",
       "      <th>3</th>\n",
       "      <td>2019-05-04</td>\n",
       "      <td>May 4 2019</td>\n",
       "      <td>163,802</td>\n",
       "      <td>10.575</td>\n",
       "      <td>£5.11</td>\n",
       "      <td>£54.00</td>\n",
       "      <td>46.8</td>\n",
       "      <td>NaN</td>\n",
       "      <td>https://www.somewebsite.com/bmw/320d/2010/247233</td>\n",
       "    </tr>\n",
       "    <tr>\n",
       "      <th>4</th>\n",
       "      <td>2022-02-15</td>\n",
       "      <td>Feb 15 2022</td>\n",
       "      <td>NaN</td>\n",
       "      <td>11.651</td>\n",
       "      <td>$3.029</td>\n",
       "      <td>$35.29</td>\n",
       "      <td>21.0</td>\n",
       "      <td>244.4</td>\n",
       "      <td>https://www.somewebsite.com/honda/passport/201...</td>\n",
       "    </tr>\n",
       "  </tbody>\n",
       "</table>\n",
       "</div>"
      ],
      "text/plain": [
       "  date_fueled date_captured  odometer gallons cost_per_gallon total_spent  \\\n",
       "0  2022-04-07    Apr 7 2022   73,370      NaN             NaN         NaN   \n",
       "1  2012-11-07   Aug 30 2016   11,983   12.120          $5.599      $67.86   \n",
       "2  2012-09-22   Sep 28 2012   98,233    7.991           £5.45      £43.53   \n",
       "3  2019-05-04    May 4 2019  163,802   10.575           £5.11      £54.00   \n",
       "4  2022-02-15   Feb 15 2022       NaN  11.651          $3.029      $35.29   \n",
       "\n",
       "    mpg    miles                                           user_url  \n",
       "0   NaN      NaN  https://www.somewebsite.com/suzuki/swift/2015/...  \n",
       "1  31.6      NaN     https://www.somewebsite.com/bmw/x3/2009/461150  \n",
       "2  28.5      NaN  https://www.somewebsite.com/mercedes-benz/e300...  \n",
       "3  46.8      NaN   https://www.somewebsite.com/bmw/320d/2010/247233  \n",
       "4  21.0   244.4   https://www.somewebsite.com/honda/passport/201...  "
      ]
     },
<<<<<<< HEAD
     "execution_count": 45,
=======
     "execution_count": 23,
>>>>>>> 29789f1fa4af3bd777b1fcde1fd8adbb9cff8955
     "metadata": {},
     "output_type": "execute_result"
    }
   ],
   "source": [
    "\n",
    "df['date_fueled'] = pd.to_datetime(df['date_fueled'], errors='coerce')\n",
    "df.loc[~df['date_fueled'].dt.year.between(1900, 2099), 'date_fueled'] = pd.NaT\n",
    "print(\"3.\")\n",
    "df.head()"
   ]
  },
  {
   "cell_type": "code",
<<<<<<< HEAD
   "execution_count": 46,
=======
   "execution_count": 24,
>>>>>>> 29789f1fa4af3bd777b1fcde1fd8adbb9cff8955
   "id": "9187ac56",
   "metadata": {},
   "outputs": [
    {
     "name": "stdout",
     "output_type": "stream",
     "text": [
      "4. Removed dates that are in the future relative to 1st September 2025 and before 2005\n"
     ]
    },
    {
     "data": {
      "text/html": [
       "<div>\n",
       "<style scoped>\n",
       "    .dataframe tbody tr th:only-of-type {\n",
       "        vertical-align: middle;\n",
       "    }\n",
       "\n",
       "    .dataframe tbody tr th {\n",
       "        vertical-align: top;\n",
       "    }\n",
       "\n",
       "    .dataframe thead th {\n",
       "        text-align: right;\n",
       "    }\n",
       "</style>\n",
       "<table border=\"1\" class=\"dataframe\">\n",
       "  <thead>\n",
       "    <tr style=\"text-align: right;\">\n",
       "      <th></th>\n",
       "      <th>date_fueled</th>\n",
       "      <th>date_captured</th>\n",
       "      <th>odometer</th>\n",
       "      <th>gallons</th>\n",
       "      <th>cost_per_gallon</th>\n",
       "      <th>total_spent</th>\n",
       "      <th>mpg</th>\n",
       "      <th>miles</th>\n",
       "      <th>user_url</th>\n",
       "    </tr>\n",
       "  </thead>\n",
       "  <tbody>\n",
       "    <tr>\n",
       "      <th>0</th>\n",
       "      <td>2022-04-07</td>\n",
       "      <td>Apr 7 2022</td>\n",
       "      <td>73,370</td>\n",
       "      <td>NaN</td>\n",
       "      <td>NaN</td>\n",
       "      <td>NaN</td>\n",
       "      <td>NaN</td>\n",
       "      <td>NaN</td>\n",
       "      <td>https://www.somewebsite.com/suzuki/swift/2015/...</td>\n",
       "    </tr>\n",
       "    <tr>\n",
       "      <th>1</th>\n",
       "      <td>2012-11-07</td>\n",
       "      <td>Aug 30 2016</td>\n",
       "      <td>11,983</td>\n",
       "      <td>12.120</td>\n",
       "      <td>$5.599</td>\n",
       "      <td>$67.86</td>\n",
       "      <td>31.6</td>\n",
       "      <td>NaN</td>\n",
       "      <td>https://www.somewebsite.com/bmw/x3/2009/461150</td>\n",
       "    </tr>\n",
       "    <tr>\n",
       "      <th>2</th>\n",
       "      <td>2012-09-22</td>\n",
       "      <td>Sep 28 2012</td>\n",
       "      <td>98,233</td>\n",
       "      <td>7.991</td>\n",
       "      <td>£5.45</td>\n",
       "      <td>£43.53</td>\n",
       "      <td>28.5</td>\n",
       "      <td>NaN</td>\n",
       "      <td>https://www.somewebsite.com/mercedes-benz/e300...</td>\n",
       "    </tr>\n",
       "    <tr>\n",
       "      <th>3</th>\n",
       "      <td>2019-05-04</td>\n",
       "      <td>May 4 2019</td>\n",
       "      <td>163,802</td>\n",
       "      <td>10.575</td>\n",
       "      <td>£5.11</td>\n",
       "      <td>£54.00</td>\n",
       "      <td>46.8</td>\n",
       "      <td>NaN</td>\n",
       "      <td>https://www.somewebsite.com/bmw/320d/2010/247233</td>\n",
       "    </tr>\n",
       "    <tr>\n",
       "      <th>4</th>\n",
       "      <td>2022-02-15</td>\n",
       "      <td>Feb 15 2022</td>\n",
       "      <td>NaN</td>\n",
       "      <td>11.651</td>\n",
       "      <td>$3.029</td>\n",
       "      <td>$35.29</td>\n",
       "      <td>21.0</td>\n",
       "      <td>244.4</td>\n",
       "      <td>https://www.somewebsite.com/honda/passport/201...</td>\n",
       "    </tr>\n",
       "  </tbody>\n",
       "</table>\n",
       "</div>"
      ],
      "text/plain": [
       "  date_fueled date_captured  odometer gallons cost_per_gallon total_spent  \\\n",
       "0  2022-04-07    Apr 7 2022   73,370      NaN             NaN         NaN   \n",
       "1  2012-11-07   Aug 30 2016   11,983   12.120          $5.599      $67.86   \n",
       "2  2012-09-22   Sep 28 2012   98,233    7.991           £5.45      £43.53   \n",
       "3  2019-05-04    May 4 2019  163,802   10.575           £5.11      £54.00   \n",
       "4  2022-02-15   Feb 15 2022       NaN  11.651          $3.029      $35.29   \n",
       "\n",
       "    mpg    miles                                           user_url  \n",
       "0   NaN      NaN  https://www.somewebsite.com/suzuki/swift/2015/...  \n",
       "1  31.6      NaN     https://www.somewebsite.com/bmw/x3/2009/461150  \n",
       "2  28.5      NaN  https://www.somewebsite.com/mercedes-benz/e300...  \n",
       "3  46.8      NaN   https://www.somewebsite.com/bmw/320d/2010/247233  \n",
       "4  21.0   244.4   https://www.somewebsite.com/honda/passport/201...  "
      ]
     },
<<<<<<< HEAD
     "execution_count": 46,
=======
     "execution_count": 24,
>>>>>>> 29789f1fa4af3bd777b1fcde1fd8adbb9cff8955
     "metadata": {},
     "output_type": "execute_result"
    }
   ],
   "source": [
    "min_date = pd.Timestamp(\"2005-01-01\")\n",
    "max_date = pd.Timestamp(\"2025-09-01\")\n",
    "mask = (df['date_fueled'] >= min_date) & (df['date_fueled'] <= max_date)\n",
    "newdf = df.loc[mask]\n",
    "\n",
    "print(\"4. Removed dates that are in the future relative to 1st September 2025 and before 2005\")\n",
    "newdf.head()"
   ]
  },
  {
   "cell_type": "code",
<<<<<<< HEAD
   "execution_count": 47,
=======
   "execution_count": 25,
>>>>>>> 29789f1fa4af3bd777b1fcde1fd8adbb9cff8955
   "id": "a8bd09aa",
   "metadata": {},
   "outputs": [
    {
     "data": {
      "text/plain": [
<<<<<<< HEAD
       "<seaborn.axisgrid.FacetGrid at 0x2167448f550>"
      ]
     },
     "execution_count": 47,
=======
       "<seaborn.axisgrid.FacetGrid at 0x21647020b90>"
      ]
     },
     "execution_count": 25,
>>>>>>> 29789f1fa4af3bd777b1fcde1fd8adbb9cff8955
     "metadata": {},
     "output_type": "execute_result"
    },
    {
     "data": {
      "image/png": "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",
      "text/plain": [
       "<Figure size 500x500 with 1 Axes>"
      ]
     },
     "metadata": {},
     "output_type": "display_data"
    }
   ],
   "source": [
    "sns.displot(newdf, x=\"date_fueled\", binwidth = 1000)\n",
    "#make a comment on the distribution of the data."
   ]
  },
  {
   "cell_type": "code",
<<<<<<< HEAD
   "execution_count": 48,
=======
   "execution_count": 26,
>>>>>>> 29789f1fa4af3bd777b1fcde1fd8adbb9cff8955
   "id": "7d6ceb9a",
   "metadata": {},
   "outputs": [
    {
     "name": "stdout",
     "output_type": "stream",
     "text": [
      "The percentage of missing gallons values is 6.32%\n",
      "The percentage of missing miles values is 87.55%\n",
      "The percentage of missing odometer values is 12.70%\n"
     ]
    }
   ],
   "source": [
    "#1.2\n",
    "gallons_null_count = df['gallons'].isnull().sum()\n",
    "gal_per = (gallons_null_count / len(df)) * 100\n",
    "print(f\"The percentage of missing gallons values is {gal_per:.2f}%\")\n",
    "\n",
    "miles_count = df['miles'].isnull().sum()\n",
    "miles_per = (miles_count / len(df)) * 100\n",
    "print(f\"The percentage of missing miles values is {miles_per:.2f}%\")\n",
    "\n",
    "odometer_count = df['odometer'].isnull().sum()\n",
    "odometer_per = (odometer_count/ len(df)) * 100\n",
    "print(f\"The percentage of missing odometer values is {odometer_per:.2f}%\")\n",
    "\n"
   ]
  },
  {
   "cell_type": "code",
<<<<<<< HEAD
   "execution_count": 49,
=======
   "execution_count": 27,
   "id": "db6ea9ea",
   "metadata": {},
   "outputs": [
    {
     "name": "stdout",
     "output_type": "stream",
     "text": [
      "2. Calculations of the other interdependant columns\n"
     ]
    },
    {
     "ename": "TypeError",
     "evalue": "can't multiply sequence by non-int of type 'str'",
     "output_type": "error",
     "traceback": [
      "\u001b[31m---------------------------------------------------------------------------\u001b[39m",
      "\u001b[31mTypeError\u001b[39m                                 Traceback (most recent call last)",
      "\u001b[36mFile \u001b[39m\u001b[32mc:\\Users\\Taboka Chloé Dube\\Desktop\\University 4\\IDVE\\Assignment-1\\.venv\\Lib\\site-packages\\pandas\\core\\ops\\array_ops.py:218\u001b[39m, in \u001b[36m_na_arithmetic_op\u001b[39m\u001b[34m(left, right, op, is_cmp)\u001b[39m\n\u001b[32m    217\u001b[39m \u001b[38;5;28;01mtry\u001b[39;00m:\n\u001b[32m--> \u001b[39m\u001b[32m218\u001b[39m     result = \u001b[43mfunc\u001b[49m\u001b[43m(\u001b[49m\u001b[43mleft\u001b[49m\u001b[43m,\u001b[49m\u001b[43m \u001b[49m\u001b[43mright\u001b[49m\u001b[43m)\u001b[49m\n\u001b[32m    219\u001b[39m \u001b[38;5;28;01mexcept\u001b[39;00m \u001b[38;5;167;01mTypeError\u001b[39;00m:\n",
      "\u001b[36mFile \u001b[39m\u001b[32mc:\\Users\\Taboka Chloé Dube\\Desktop\\University 4\\IDVE\\Assignment-1\\.venv\\Lib\\site-packages\\pandas\\core\\computation\\expressions.py:242\u001b[39m, in \u001b[36mevaluate\u001b[39m\u001b[34m(op, a, b, use_numexpr)\u001b[39m\n\u001b[32m    240\u001b[39m     \u001b[38;5;28;01mif\u001b[39;00m use_numexpr:\n\u001b[32m    241\u001b[39m         \u001b[38;5;66;03m# error: \"None\" not callable\u001b[39;00m\n\u001b[32m--> \u001b[39m\u001b[32m242\u001b[39m         \u001b[38;5;28;01mreturn\u001b[39;00m \u001b[43m_evaluate\u001b[49m\u001b[43m(\u001b[49m\u001b[43mop\u001b[49m\u001b[43m,\u001b[49m\u001b[43m \u001b[49m\u001b[43mop_str\u001b[49m\u001b[43m,\u001b[49m\u001b[43m \u001b[49m\u001b[43ma\u001b[49m\u001b[43m,\u001b[49m\u001b[43m \u001b[49m\u001b[43mb\u001b[49m\u001b[43m)\u001b[49m  \u001b[38;5;66;03m# type: ignore[misc]\u001b[39;00m\n\u001b[32m    243\u001b[39m \u001b[38;5;28;01mreturn\u001b[39;00m _evaluate_standard(op, op_str, a, b)\n",
      "\u001b[36mFile \u001b[39m\u001b[32mc:\\Users\\Taboka Chloé Dube\\Desktop\\University 4\\IDVE\\Assignment-1\\.venv\\Lib\\site-packages\\pandas\\core\\computation\\expressions.py:73\u001b[39m, in \u001b[36m_evaluate_standard\u001b[39m\u001b[34m(op, op_str, a, b)\u001b[39m\n\u001b[32m     72\u001b[39m     _store_test_result(\u001b[38;5;28;01mFalse\u001b[39;00m)\n\u001b[32m---> \u001b[39m\u001b[32m73\u001b[39m \u001b[38;5;28;01mreturn\u001b[39;00m op(a, b)\n",
      "\u001b[31mTypeError\u001b[39m: can't multiply sequence by non-int of type 'str'",
      "\nDuring handling of the above exception, another exception occurred:\n",
      "\u001b[31mTypeError\u001b[39m                                 Traceback (most recent call last)",
      "\u001b[36mCell\u001b[39m\u001b[36m \u001b[39m\u001b[32mIn[27]\u001b[39m\u001b[32m, line 2\u001b[39m\n\u001b[32m      1\u001b[39m \u001b[38;5;28mprint\u001b[39m(\u001b[33m\"\u001b[39m\u001b[33m2. Calculations of the other interdependant columns\u001b[39m\u001b[33m\"\u001b[39m)\n\u001b[32m----> \u001b[39m\u001b[32m2\u001b[39m df[\u001b[33m'\u001b[39m\u001b[33mmiles\u001b[39m\u001b[33m'\u001b[39m] = \u001b[43mdf\u001b[49m\u001b[43m[\u001b[49m\u001b[33;43m'\u001b[39;49m\u001b[33;43mgallons\u001b[39;49m\u001b[33;43m'\u001b[39;49m\u001b[43m]\u001b[49m\u001b[43m*\u001b[49m\u001b[43mdf\u001b[49m\u001b[43m[\u001b[49m\u001b[33;43m'\u001b[39;49m\u001b[33;43mmpg\u001b[39;49m\u001b[33;43m'\u001b[39;49m\u001b[43m]\u001b[49m\n\u001b[32m      3\u001b[39m df[\u001b[33m'\u001b[39m\u001b[33mgallons\u001b[39m\u001b[33m'\u001b[39m] = df[\u001b[33m'\u001b[39m\u001b[33mmiles\u001b[39m\u001b[33m'\u001b[39m]/df[\u001b[33m'\u001b[39m\u001b[33mmpg\u001b[39m\u001b[33m'\u001b[39m]\n\u001b[32m      4\u001b[39m df[\u001b[33m'\u001b[39m\u001b[33mmpg\u001b[39m\u001b[33m'\u001b[39m] = df[\u001b[33m'\u001b[39m\u001b[33mmiles\u001b[39m\u001b[33m'\u001b[39m]/df[\u001b[33m'\u001b[39m\u001b[33mgallons\u001b[39m\u001b[33m'\u001b[39m]\n",
      "\u001b[36mFile \u001b[39m\u001b[32mc:\\Users\\Taboka Chloé Dube\\Desktop\\University 4\\IDVE\\Assignment-1\\.venv\\Lib\\site-packages\\pandas\\core\\ops\\common.py:76\u001b[39m, in \u001b[36m_unpack_zerodim_and_defer.<locals>.new_method\u001b[39m\u001b[34m(self, other)\u001b[39m\n\u001b[32m     72\u001b[39m             \u001b[38;5;28;01mreturn\u001b[39;00m \u001b[38;5;28mNotImplemented\u001b[39m\n\u001b[32m     74\u001b[39m other = item_from_zerodim(other)\n\u001b[32m---> \u001b[39m\u001b[32m76\u001b[39m \u001b[38;5;28;01mreturn\u001b[39;00m \u001b[43mmethod\u001b[49m\u001b[43m(\u001b[49m\u001b[38;5;28;43mself\u001b[39;49m\u001b[43m,\u001b[49m\u001b[43m \u001b[49m\u001b[43mother\u001b[49m\u001b[43m)\u001b[49m\n",
      "\u001b[36mFile \u001b[39m\u001b[32mc:\\Users\\Taboka Chloé Dube\\Desktop\\University 4\\IDVE\\Assignment-1\\.venv\\Lib\\site-packages\\pandas\\core\\arraylike.py:202\u001b[39m, in \u001b[36mOpsMixin.__mul__\u001b[39m\u001b[34m(self, other)\u001b[39m\n\u001b[32m    200\u001b[39m \u001b[38;5;129m@unpack_zerodim_and_defer\u001b[39m(\u001b[33m\"\u001b[39m\u001b[33m__mul__\u001b[39m\u001b[33m\"\u001b[39m)\n\u001b[32m    201\u001b[39m \u001b[38;5;28;01mdef\u001b[39;00m\u001b[38;5;250m \u001b[39m\u001b[34m__mul__\u001b[39m(\u001b[38;5;28mself\u001b[39m, other):\n\u001b[32m--> \u001b[39m\u001b[32m202\u001b[39m     \u001b[38;5;28;01mreturn\u001b[39;00m \u001b[38;5;28;43mself\u001b[39;49m\u001b[43m.\u001b[49m\u001b[43m_arith_method\u001b[49m\u001b[43m(\u001b[49m\u001b[43mother\u001b[49m\u001b[43m,\u001b[49m\u001b[43m \u001b[49m\u001b[43moperator\u001b[49m\u001b[43m.\u001b[49m\u001b[43mmul\u001b[49m\u001b[43m)\u001b[49m\n",
      "\u001b[36mFile \u001b[39m\u001b[32mc:\\Users\\Taboka Chloé Dube\\Desktop\\University 4\\IDVE\\Assignment-1\\.venv\\Lib\\site-packages\\pandas\\core\\series.py:6146\u001b[39m, in \u001b[36mSeries._arith_method\u001b[39m\u001b[34m(self, other, op)\u001b[39m\n\u001b[32m   6144\u001b[39m \u001b[38;5;28;01mdef\u001b[39;00m\u001b[38;5;250m \u001b[39m\u001b[34m_arith_method\u001b[39m(\u001b[38;5;28mself\u001b[39m, other, op):\n\u001b[32m   6145\u001b[39m     \u001b[38;5;28mself\u001b[39m, other = \u001b[38;5;28mself\u001b[39m._align_for_op(other)\n\u001b[32m-> \u001b[39m\u001b[32m6146\u001b[39m     \u001b[38;5;28;01mreturn\u001b[39;00m \u001b[43mbase\u001b[49m\u001b[43m.\u001b[49m\u001b[43mIndexOpsMixin\u001b[49m\u001b[43m.\u001b[49m\u001b[43m_arith_method\u001b[49m\u001b[43m(\u001b[49m\u001b[38;5;28;43mself\u001b[39;49m\u001b[43m,\u001b[49m\u001b[43m \u001b[49m\u001b[43mother\u001b[49m\u001b[43m,\u001b[49m\u001b[43m \u001b[49m\u001b[43mop\u001b[49m\u001b[43m)\u001b[49m\n",
      "\u001b[36mFile \u001b[39m\u001b[32mc:\\Users\\Taboka Chloé Dube\\Desktop\\University 4\\IDVE\\Assignment-1\\.venv\\Lib\\site-packages\\pandas\\core\\base.py:1391\u001b[39m, in \u001b[36mIndexOpsMixin._arith_method\u001b[39m\u001b[34m(self, other, op)\u001b[39m\n\u001b[32m   1388\u001b[39m     rvalues = np.arange(rvalues.start, rvalues.stop, rvalues.step)\n\u001b[32m   1390\u001b[39m \u001b[38;5;28;01mwith\u001b[39;00m np.errstate(\u001b[38;5;28mall\u001b[39m=\u001b[33m\"\u001b[39m\u001b[33mignore\u001b[39m\u001b[33m\"\u001b[39m):\n\u001b[32m-> \u001b[39m\u001b[32m1391\u001b[39m     result = \u001b[43mops\u001b[49m\u001b[43m.\u001b[49m\u001b[43marithmetic_op\u001b[49m\u001b[43m(\u001b[49m\u001b[43mlvalues\u001b[49m\u001b[43m,\u001b[49m\u001b[43m \u001b[49m\u001b[43mrvalues\u001b[49m\u001b[43m,\u001b[49m\u001b[43m \u001b[49m\u001b[43mop\u001b[49m\u001b[43m)\u001b[49m\n\u001b[32m   1393\u001b[39m \u001b[38;5;28;01mreturn\u001b[39;00m \u001b[38;5;28mself\u001b[39m._construct_result(result, name=res_name)\n",
      "\u001b[36mFile \u001b[39m\u001b[32mc:\\Users\\Taboka Chloé Dube\\Desktop\\University 4\\IDVE\\Assignment-1\\.venv\\Lib\\site-packages\\pandas\\core\\ops\\array_ops.py:283\u001b[39m, in \u001b[36marithmetic_op\u001b[39m\u001b[34m(left, right, op)\u001b[39m\n\u001b[32m    279\u001b[39m     _bool_arith_check(op, left, right)  \u001b[38;5;66;03m# type: ignore[arg-type]\u001b[39;00m\n\u001b[32m    281\u001b[39m     \u001b[38;5;66;03m# error: Argument 1 to \"_na_arithmetic_op\" has incompatible type\u001b[39;00m\n\u001b[32m    282\u001b[39m     \u001b[38;5;66;03m# \"Union[ExtensionArray, ndarray[Any, Any]]\"; expected \"ndarray[Any, Any]\"\u001b[39;00m\n\u001b[32m--> \u001b[39m\u001b[32m283\u001b[39m     res_values = \u001b[43m_na_arithmetic_op\u001b[49m\u001b[43m(\u001b[49m\u001b[43mleft\u001b[49m\u001b[43m,\u001b[49m\u001b[43m \u001b[49m\u001b[43mright\u001b[49m\u001b[43m,\u001b[49m\u001b[43m \u001b[49m\u001b[43mop\u001b[49m\u001b[43m)\u001b[49m  \u001b[38;5;66;03m# type: ignore[arg-type]\u001b[39;00m\n\u001b[32m    285\u001b[39m \u001b[38;5;28;01mreturn\u001b[39;00m res_values\n",
      "\u001b[36mFile \u001b[39m\u001b[32mc:\\Users\\Taboka Chloé Dube\\Desktop\\University 4\\IDVE\\Assignment-1\\.venv\\Lib\\site-packages\\pandas\\core\\ops\\array_ops.py:227\u001b[39m, in \u001b[36m_na_arithmetic_op\u001b[39m\u001b[34m(left, right, op, is_cmp)\u001b[39m\n\u001b[32m    219\u001b[39m \u001b[38;5;28;01mexcept\u001b[39;00m \u001b[38;5;167;01mTypeError\u001b[39;00m:\n\u001b[32m    220\u001b[39m     \u001b[38;5;28;01mif\u001b[39;00m \u001b[38;5;129;01mnot\u001b[39;00m is_cmp \u001b[38;5;129;01mand\u001b[39;00m (\n\u001b[32m    221\u001b[39m         left.dtype == \u001b[38;5;28mobject\u001b[39m \u001b[38;5;129;01mor\u001b[39;00m \u001b[38;5;28mgetattr\u001b[39m(right, \u001b[33m\"\u001b[39m\u001b[33mdtype\u001b[39m\u001b[33m\"\u001b[39m, \u001b[38;5;28;01mNone\u001b[39;00m) == \u001b[38;5;28mobject\u001b[39m\n\u001b[32m    222\u001b[39m     ):\n\u001b[32m   (...)\u001b[39m\u001b[32m    225\u001b[39m         \u001b[38;5;66;03m# Don't do this for comparisons, as that will handle complex numbers\u001b[39;00m\n\u001b[32m    226\u001b[39m         \u001b[38;5;66;03m#  incorrectly, see GH#32047\u001b[39;00m\n\u001b[32m--> \u001b[39m\u001b[32m227\u001b[39m         result = \u001b[43m_masked_arith_op\u001b[49m\u001b[43m(\u001b[49m\u001b[43mleft\u001b[49m\u001b[43m,\u001b[49m\u001b[43m \u001b[49m\u001b[43mright\u001b[49m\u001b[43m,\u001b[49m\u001b[43m \u001b[49m\u001b[43mop\u001b[49m\u001b[43m)\u001b[49m\n\u001b[32m    228\u001b[39m     \u001b[38;5;28;01melse\u001b[39;00m:\n\u001b[32m    229\u001b[39m         \u001b[38;5;28;01mraise\u001b[39;00m\n",
      "\u001b[36mFile \u001b[39m\u001b[32mc:\\Users\\Taboka Chloé Dube\\Desktop\\University 4\\IDVE\\Assignment-1\\.venv\\Lib\\site-packages\\pandas\\core\\ops\\array_ops.py:163\u001b[39m, in \u001b[36m_masked_arith_op\u001b[39m\u001b[34m(x, y, op)\u001b[39m\n\u001b[32m    161\u001b[39m     \u001b[38;5;66;03m# See GH#5284, GH#5035, GH#19448 for historical reference\u001b[39;00m\n\u001b[32m    162\u001b[39m     \u001b[38;5;28;01mif\u001b[39;00m mask.any():\n\u001b[32m--> \u001b[39m\u001b[32m163\u001b[39m         result[mask] = \u001b[43mop\u001b[49m\u001b[43m(\u001b[49m\u001b[43mxrav\u001b[49m\u001b[43m[\u001b[49m\u001b[43mmask\u001b[49m\u001b[43m]\u001b[49m\u001b[43m,\u001b[49m\u001b[43m \u001b[49m\u001b[43myrav\u001b[49m\u001b[43m[\u001b[49m\u001b[43mmask\u001b[49m\u001b[43m]\u001b[49m\u001b[43m)\u001b[49m\n\u001b[32m    165\u001b[39m \u001b[38;5;28;01melse\u001b[39;00m:\n\u001b[32m    166\u001b[39m     \u001b[38;5;28;01mif\u001b[39;00m \u001b[38;5;129;01mnot\u001b[39;00m is_scalar(y):\n",
      "\u001b[31mTypeError\u001b[39m: can't multiply sequence by non-int of type 'str'"
     ]
    }
   ],
   "source": [
    "print(\"2. Calculations of the other interdependant columns\")\n",
    "df['miles'] = df['gallons']*df['mpg']\n",
    "df['gallons'] = df['miles']/df['mpg']\n",
    "df['mpg'] = df['miles']/df['gallons']\n",
    "\n",
    "df.head()"
   ]
  },
  {
   "cell_type": "code",
   "execution_count": 28,
>>>>>>> 29789f1fa4af3bd777b1fcde1fd8adbb9cff8955
   "id": "c6f20004",
   "metadata": {},
   "outputs": [
    {
     "name": "stdout",
     "output_type": "stream",
     "text": [
      "3. Converting the numerical values to floats, after removing the commas: \n"
     ]
    }
   ],
   "source": [
    "#converting everything to a float\n",
    "print(\"3. Converting the numerical values to floats, after removing the commas: \")\n",
    "df['gallons'] = df['gallons'].str.replace(\",\", '').astype(float)\n",
    "df['mpg']= df['mpg'].str.replace(\",\", '').astype(float)\n",
    "df['miles'] = df['miles'].str.replace(\",\", '').astype(float)\n"
   ]
  },
  {
   "cell_type": "code",
<<<<<<< HEAD
   "execution_count": 50,
   "id": "db6ea9ea",
   "metadata": {},
   "outputs": [
    {
     "name": "stdout",
     "output_type": "stream",
     "text": [
      "2. Calculations of the other interdependant columns\n"
     ]
    },
    {
     "data": {
      "text/html": [
       "<div>\n",
       "<style scoped>\n",
       "    .dataframe tbody tr th:only-of-type {\n",
       "        vertical-align: middle;\n",
       "    }\n",
       "\n",
       "    .dataframe tbody tr th {\n",
       "        vertical-align: top;\n",
       "    }\n",
       "\n",
       "    .dataframe thead th {\n",
       "        text-align: right;\n",
       "    }\n",
       "</style>\n",
       "<table border=\"1\" class=\"dataframe\">\n",
       "  <thead>\n",
       "    <tr style=\"text-align: right;\">\n",
       "      <th></th>\n",
       "      <th>date_fueled</th>\n",
       "      <th>date_captured</th>\n",
       "      <th>odometer</th>\n",
       "      <th>gallons</th>\n",
       "      <th>cost_per_gallon</th>\n",
       "      <th>total_spent</th>\n",
       "      <th>mpg</th>\n",
       "      <th>miles</th>\n",
       "      <th>user_url</th>\n",
       "    </tr>\n",
       "  </thead>\n",
       "  <tbody>\n",
       "    <tr>\n",
       "      <th>0</th>\n",
       "      <td>2022-04-07</td>\n",
       "      <td>Apr 7 2022</td>\n",
       "      <td>73,370</td>\n",
       "      <td>NaN</td>\n",
       "      <td>NaN</td>\n",
       "      <td>NaN</td>\n",
       "      <td>NaN</td>\n",
       "      <td>NaN</td>\n",
       "      <td>https://www.somewebsite.com/suzuki/swift/2015/...</td>\n",
       "    </tr>\n",
       "    <tr>\n",
       "      <th>1</th>\n",
       "      <td>2012-11-07</td>\n",
       "      <td>Aug 30 2016</td>\n",
       "      <td>11,983</td>\n",
       "      <td>12.120</td>\n",
       "      <td>$5.599</td>\n",
       "      <td>$67.86</td>\n",
       "      <td>31.6</td>\n",
       "      <td>382.9920</td>\n",
       "      <td>https://www.somewebsite.com/bmw/x3/2009/461150</td>\n",
       "    </tr>\n",
       "    <tr>\n",
       "      <th>2</th>\n",
       "      <td>2012-09-22</td>\n",
       "      <td>Sep 28 2012</td>\n",
       "      <td>98,233</td>\n",
       "      <td>7.991</td>\n",
       "      <td>£5.45</td>\n",
       "      <td>£43.53</td>\n",
       "      <td>28.5</td>\n",
       "      <td>227.7435</td>\n",
       "      <td>https://www.somewebsite.com/mercedes-benz/e300...</td>\n",
       "    </tr>\n",
       "    <tr>\n",
       "      <th>3</th>\n",
       "      <td>2019-05-04</td>\n",
       "      <td>May 4 2019</td>\n",
       "      <td>163,802</td>\n",
       "      <td>10.575</td>\n",
       "      <td>£5.11</td>\n",
       "      <td>£54.00</td>\n",
       "      <td>46.8</td>\n",
       "      <td>494.9100</td>\n",
       "      <td>https://www.somewebsite.com/bmw/320d/2010/247233</td>\n",
       "    </tr>\n",
       "    <tr>\n",
       "      <th>4</th>\n",
       "      <td>2022-02-15</td>\n",
       "      <td>Feb 15 2022</td>\n",
       "      <td>NaN</td>\n",
       "      <td>11.651</td>\n",
       "      <td>$3.029</td>\n",
       "      <td>$35.29</td>\n",
       "      <td>21.0</td>\n",
       "      <td>244.6710</td>\n",
       "      <td>https://www.somewebsite.com/honda/passport/201...</td>\n",
       "    </tr>\n",
       "  </tbody>\n",
       "</table>\n",
       "</div>"
      ],
      "text/plain": [
       "  date_fueled date_captured  odometer  gallons cost_per_gallon total_spent  \\\n",
       "0  2022-04-07    Apr 7 2022   73,370       NaN             NaN         NaN   \n",
       "1  2012-11-07   Aug 30 2016   11,983    12.120          $5.599      $67.86   \n",
       "2  2012-09-22   Sep 28 2012   98,233     7.991           £5.45      £43.53   \n",
       "3  2019-05-04    May 4 2019  163,802    10.575           £5.11      £54.00   \n",
       "4  2022-02-15   Feb 15 2022       NaN   11.651          $3.029      $35.29   \n",
       "\n",
       "    mpg     miles                                           user_url  \n",
       "0   NaN       NaN  https://www.somewebsite.com/suzuki/swift/2015/...  \n",
       "1  31.6  382.9920     https://www.somewebsite.com/bmw/x3/2009/461150  \n",
       "2  28.5  227.7435  https://www.somewebsite.com/mercedes-benz/e300...  \n",
       "3  46.8  494.9100   https://www.somewebsite.com/bmw/320d/2010/247233  \n",
       "4  21.0  244.6710  https://www.somewebsite.com/honda/passport/201...  "
      ]
     },
     "execution_count": 50,
     "metadata": {},
     "output_type": "execute_result"
    }
   ],
   "source": [
    "print(\"2. Calculations of the other interdependant columns\")\n",
    "df['miles'] = df['gallons']*df['mpg']\n",
    "df['gallons'] = df['miles']/df['mpg']\n",
    "df['mpg'] = df['miles']/df['gallons']\n",
    "\n",
    "df.head()"
   ]
  },
  {
   "cell_type": "code",
   "execution_count": 55,
=======
   "execution_count": 34,
>>>>>>> 29789f1fa4af3bd777b1fcde1fd8adbb9cff8955
   "id": "0b25f81f",
   "metadata": {},
   "outputs": [
    {
     "data": {
      "text/plain": [
<<<<<<< HEAD
       "<seaborn.axisgrid.FacetGrid at 0x216a6d13710>"
      ]
     },
     "execution_count": 55,
=======
       "<seaborn.axisgrid.FacetGrid at 0x21673f1b850>"
      ]
     },
     "execution_count": 34,
>>>>>>> 29789f1fa4af3bd777b1fcde1fd8adbb9cff8955
     "metadata": {},
     "output_type": "execute_result"
    },
    {
     "data": {
<<<<<<< HEAD
      "image/png": "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",
=======
      "image/png": "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",
>>>>>>> 29789f1fa4af3bd777b1fcde1fd8adbb9cff8955
      "text/plain": [
       "<Figure size 500x500 with 1 Axes>"
      ]
     },
     "metadata": {},
     "output_type": "display_data"
    }
   ],
   "source": [
<<<<<<< HEAD
    "sns.displot(df, x=\"miles\", y ='gallons')"
=======
    "sns.displot(df, x=\"gallons\")"
>>>>>>> 29789f1fa4af3bd777b1fcde1fd8adbb9cff8955
   ]
  },
  {
   "cell_type": "code",
   "execution_count": null,
   "id": "0cc165fd",
   "metadata": {},
<<<<<<< HEAD
   "outputs": [],
=======
   "outputs": [
    {
     "data": {
      "image/png": "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",
      "text/plain": [
       "<Figure size 1500x400 with 3 Axes>"
      ]
     },
     "metadata": {},
     "output_type": "display_data"
    }
   ],
>>>>>>> 29789f1fa4af3bd777b1fcde1fd8adbb9cff8955
   "source": []
  }
 ],
 "metadata": {
  "kernelspec": {
   "display_name": ".venv (3.11.2)",
   "language": "python",
   "name": "python3"
  },
  "language_info": {
   "codemirror_mode": {
    "name": "ipython",
    "version": 3
   },
   "file_extension": ".py",
   "mimetype": "text/x-python",
   "name": "python",
   "nbconvert_exporter": "python",
   "pygments_lexer": "ipython3",
   "version": "3.11.2"
  }
 },
 "nbformat": 4,
 "nbformat_minor": 5
}
