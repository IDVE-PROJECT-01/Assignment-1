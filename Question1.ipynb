{
 "cells": [
  {
   "cell_type": "code",
   "execution_count": 1,
   "id": "8336a2fa",
   "metadata": {},
   "outputs": [],
   "source": [
    "import pandas as pd\n",
    "import matplotlib.pyplot as plt\n",
    "import seaborn as sns\n",
    "import matplotlib.pyplot as plt\n",
    "import numpy as np\n",
    "import re\n",
    "\n"
   ]
  },
  {
   "cell_type": "code",
   "execution_count": 2,
   "id": "66ecdb35",
   "metadata": {},
   "outputs": [
    {
     "name": "stderr",
     "output_type": "stream",
     "text": [
      "C:\\Users\\Taboka Chloé Dube\\AppData\\Local\\Temp\\ipykernel_50876\\1174220521.py:1: DtypeWarning: Columns (3,6) have mixed types. Specify dtype option on import or set low_memory=False.\n",
      "  df = pd.read_csv('logbook_assignment1.csv')\n",
      "C:\\Users\\Taboka Chloé Dube\\AppData\\Local\\Temp\\ipykernel_50876\\1174220521.py:2: DtypeWarning: Columns (3,6) have mixed types. Specify dtype option on import or set low_memory=False.\n",
      "  df2 = pd.read_csv('logbook_assignment1.csv')\n"
     ]
    },
    {
     "name": "stdout",
     "output_type": "stream",
     "text": [
      "1174870\n"
     ]
    },
    {
     "name": "stderr",
     "output_type": "stream",
     "text": [
      "C:\\Users\\Taboka Chloé Dube\\AppData\\Local\\Temp\\ipykernel_50876\\1174220521.py:3: DtypeWarning: Columns (3,6) have mixed types. Specify dtype option on import or set low_memory=False.\n",
      "  df3 = pd.read_csv('logbook_assignment1.csv')\n"
     ]
    }
   ],
   "source": [
    "df = pd.read_csv('logbook_assignment1.csv')\n",
    "df2 = pd.read_csv('logbook_assignment1.csv')\n",
    "df3 = pd.read_csv('logbook_assignment1.csv')\n",
    "# let's print out how many entries there are in the dataset\n",
    "print(len(df))"
   ]
  },
  {
   "cell_type": "code",
   "execution_count": 3,
   "id": "a50b8c53",
   "metadata": {},
   "outputs": [
    {
     "name": "stdout",
     "output_type": "stream",
     "text": [
      "                                               date_fueled date_captured  \\\n",
      "0        Cooling System, Heating System, Lights, Spark ...    Apr 7 2022   \n",
      "1                                               Nov 7 2012   Aug 30 2016   \n",
      "2                                              Sep 22 2012   Sep 28 2012   \n",
      "3                                               May 4 2019    May 4 2019   \n",
      "4                                              Feb 15 2022   Feb 15 2022   \n",
      "...                                                    ...           ...   \n",
      "1174865                                        Feb 19 2020   Feb 19 2020   \n",
      "1174866                                         Dec 6 2019    Dec 6 2019   \n",
      "1174867                                         Oct 4 2021    Oct 4 2021   \n",
      "1174868                                        Jul 26 2021   Jul 26 2021   \n",
      "1174869                                        Mar 12 2019   Mar 12 2019   \n",
      "\n",
      "         odometer gallons cost_per_gallon total_spent   mpg    miles  \\\n",
      "0         73,370      NaN             NaN         NaN   NaN      NaN   \n",
      "1         11,983   12.120          $5.599      $67.86  31.6      NaN   \n",
      "2         98,233    7.991           £5.45      £43.53  28.5      NaN   \n",
      "3        163,802   10.575           £5.11      £54.00  46.8      NaN   \n",
      "4             NaN  11.651          $3.029      $35.29  21.0   244.4    \n",
      "...           ...     ...             ...         ...   ...      ...   \n",
      "1174865  118,237   13.046          $1.999      $26.08  25.7      NaN   \n",
      "1174866  141,761   12.637          $2.449      $30.95  20.0      NaN   \n",
      "1174867   65,029   10.002          $3.449      $34.50  28.5      NaN   \n",
      "1174868   15,255   10.493          $3.539      $37.13  36.5      NaN   \n",
      "1174869  204,774   17.350          $3.199      $55.50   0.0      NaN   \n",
      "\n",
      "                                                  user_url  \n",
      "0        https://www.somewebsite.com/suzuki/swift/2015/...  \n",
      "1           https://www.somewebsite.com/bmw/x3/2009/461150  \n",
      "2        https://www.somewebsite.com/mercedes-benz/e300...  \n",
      "3         https://www.somewebsite.com/bmw/320d/2010/247233  \n",
      "4        https://www.somewebsite.com/honda/passport/201...  \n",
      "...                                                    ...  \n",
      "1174865  https://www.somewebsite.com/volkswagen/beetle/...  \n",
      "1174866  https://www.somewebsite.com/toyota/avalon/2000...  \n",
      "1174867   https://www.somewebsite.com/fiat/500/2013/909694  \n",
      "1174868  https://www.somewebsite.com/mini/cooper/2019/9...  \n",
      "1174869  https://www.somewebsite.com/lexus/lx470/2001/8...  \n",
      "\n",
      "[1174870 rows x 9 columns]\n"
     ]
    }
   ],
   "source": [
    "print(df)"
   ]
  },
  {
   "cell_type": "markdown",
   "id": "298a6400",
   "metadata": {},
   "source": [
    "# Question 1"
   ]
  },
  {
   "cell_type": "markdown",
   "id": "4a90d661",
   "metadata": {},
   "source": [
    "## 1.1 Date Fields"
   ]
  },
  {
   "cell_type": "code",
   "execution_count": 4,
   "id": "49e9c5fa",
   "metadata": {},
   "outputs": [
    {
     "name": "stdout",
     "output_type": "stream",
     "text": [
      "1. 11.68% of rows don't match the correct date format.\n"
     ]
    }
   ],
   "source": [
    "\n",
    "pattern = r'^[A-Z][a-z]{2} \\d{1,2} \\d{4}$'\n",
    "date_fuel = df['date_fueled'].str.match(pattern)\n",
    "percentage = (date_fuel.sum() / len(df)) * 100\n",
    "proportion = 100-percentage\n",
    "print(f\"1. {proportion:.2f}% of rows don't match the correct date format.\")"
   ]
  },
  {
   "cell_type": "code",
   "execution_count": 5,
   "id": "78877676",
   "metadata": {},
   "outputs": [
    {
     "name": "stdout",
     "output_type": "stream",
     "text": [
      "2. The dates filled in as a proxy\n"
     ]
    },
    {
     "data": {
      "text/html": [
       "<div>\n",
       "<style scoped>\n",
       "    .dataframe tbody tr th:only-of-type {\n",
       "        vertical-align: middle;\n",
       "    }\n",
       "\n",
       "    .dataframe tbody tr th {\n",
       "        vertical-align: top;\n",
       "    }\n",
       "\n",
       "    .dataframe thead th {\n",
       "        text-align: right;\n",
       "    }\n",
       "</style>\n",
       "<table border=\"1\" class=\"dataframe\">\n",
       "  <thead>\n",
       "    <tr style=\"text-align: right;\">\n",
       "      <th></th>\n",
       "      <th>date_fueled</th>\n",
       "      <th>date_captured</th>\n",
       "      <th>odometer</th>\n",
       "      <th>gallons</th>\n",
       "      <th>cost_per_gallon</th>\n",
       "      <th>total_spent</th>\n",
       "      <th>mpg</th>\n",
       "      <th>miles</th>\n",
       "      <th>user_url</th>\n",
       "    </tr>\n",
       "  </thead>\n",
       "  <tbody>\n",
       "    <tr>\n",
       "      <th>0</th>\n",
       "      <td>Apr 7 2022</td>\n",
       "      <td>Apr 7 2022</td>\n",
       "      <td>73,370</td>\n",
       "      <td>NaN</td>\n",
       "      <td>NaN</td>\n",
       "      <td>NaN</td>\n",
       "      <td>NaN</td>\n",
       "      <td>NaN</td>\n",
       "      <td>https://www.somewebsite.com/suzuki/swift/2015/...</td>\n",
       "    </tr>\n",
       "    <tr>\n",
       "      <th>1</th>\n",
       "      <td>Nov 7 2012</td>\n",
       "      <td>Aug 30 2016</td>\n",
       "      <td>11,983</td>\n",
       "      <td>12.120</td>\n",
       "      <td>$5.599</td>\n",
       "      <td>$67.86</td>\n",
       "      <td>31.6</td>\n",
       "      <td>NaN</td>\n",
       "      <td>https://www.somewebsite.com/bmw/x3/2009/461150</td>\n",
       "    </tr>\n",
       "    <tr>\n",
       "      <th>2</th>\n",
       "      <td>Sep 22 2012</td>\n",
       "      <td>Sep 28 2012</td>\n",
       "      <td>98,233</td>\n",
       "      <td>7.991</td>\n",
       "      <td>£5.45</td>\n",
       "      <td>£43.53</td>\n",
       "      <td>28.5</td>\n",
       "      <td>NaN</td>\n",
       "      <td>https://www.somewebsite.com/mercedes-benz/e300...</td>\n",
       "    </tr>\n",
       "    <tr>\n",
       "      <th>3</th>\n",
       "      <td>May 4 2019</td>\n",
       "      <td>May 4 2019</td>\n",
       "      <td>163,802</td>\n",
       "      <td>10.575</td>\n",
       "      <td>£5.11</td>\n",
       "      <td>£54.00</td>\n",
       "      <td>46.8</td>\n",
       "      <td>NaN</td>\n",
       "      <td>https://www.somewebsite.com/bmw/320d/2010/247233</td>\n",
       "    </tr>\n",
       "    <tr>\n",
       "      <th>4</th>\n",
       "      <td>Feb 15 2022</td>\n",
       "      <td>Feb 15 2022</td>\n",
       "      <td>NaN</td>\n",
       "      <td>11.651</td>\n",
       "      <td>$3.029</td>\n",
       "      <td>$35.29</td>\n",
       "      <td>21.0</td>\n",
       "      <td>244.4</td>\n",
       "      <td>https://www.somewebsite.com/honda/passport/201...</td>\n",
       "    </tr>\n",
       "  </tbody>\n",
       "</table>\n",
       "</div>"
      ],
      "text/plain": [
       "   date_fueled date_captured  odometer gallons cost_per_gallon total_spent  \\\n",
       "0   Apr 7 2022    Apr 7 2022   73,370      NaN             NaN         NaN   \n",
       "1   Nov 7 2012   Aug 30 2016   11,983   12.120          $5.599      $67.86   \n",
       "2  Sep 22 2012   Sep 28 2012   98,233    7.991           £5.45      £43.53   \n",
       "3   May 4 2019    May 4 2019  163,802   10.575           £5.11      £54.00   \n",
       "4  Feb 15 2022   Feb 15 2022       NaN  11.651          $3.029      $35.29   \n",
       "\n",
       "    mpg    miles                                           user_url  \n",
       "0   NaN      NaN  https://www.somewebsite.com/suzuki/swift/2015/...  \n",
       "1  31.6      NaN     https://www.somewebsite.com/bmw/x3/2009/461150  \n",
       "2  28.5      NaN  https://www.somewebsite.com/mercedes-benz/e300...  \n",
       "3  46.8      NaN   https://www.somewebsite.com/bmw/320d/2010/247233  \n",
       "4  21.0   244.4   https://www.somewebsite.com/honda/passport/201...  "
      ]
     },
     "execution_count": 5,
     "metadata": {},
     "output_type": "execute_result"
    }
   ],
   "source": [
    "#Filling in dates as proxy\n",
    "valid_fueled = df['date_fueled'].astype(str).str.match(pattern)\n",
    "valid_capture = df['date_captured'].astype(str).str.match(pattern)\n",
    "\n",
    "df.loc[~valid_fueled & valid_capture, 'date_fueled'] = df['date_captured']\n",
    "print(\"2. The dates filled in as a proxy\")\n",
    "df.head()"
   ]
  },
  {
   "cell_type": "code",
   "execution_count": 6,
   "id": "d70baaf7",
   "metadata": {},
   "outputs": [
    {
     "name": "stdout",
     "output_type": "stream",
     "text": [
      "3.\n"
     ]
    },
    {
     "data": {
      "text/html": [
       "<div>\n",
       "<style scoped>\n",
       "    .dataframe tbody tr th:only-of-type {\n",
       "        vertical-align: middle;\n",
       "    }\n",
       "\n",
       "    .dataframe tbody tr th {\n",
       "        vertical-align: top;\n",
       "    }\n",
       "\n",
       "    .dataframe thead th {\n",
       "        text-align: right;\n",
       "    }\n",
       "</style>\n",
       "<table border=\"1\" class=\"dataframe\">\n",
       "  <thead>\n",
       "    <tr style=\"text-align: right;\">\n",
       "      <th></th>\n",
       "      <th>date_fueled</th>\n",
       "      <th>date_captured</th>\n",
       "      <th>odometer</th>\n",
       "      <th>gallons</th>\n",
       "      <th>cost_per_gallon</th>\n",
       "      <th>total_spent</th>\n",
       "      <th>mpg</th>\n",
       "      <th>miles</th>\n",
       "      <th>user_url</th>\n",
       "    </tr>\n",
       "  </thead>\n",
       "  <tbody>\n",
       "    <tr>\n",
       "      <th>0</th>\n",
       "      <td>2022-04-07</td>\n",
       "      <td>Apr 7 2022</td>\n",
       "      <td>73,370</td>\n",
       "      <td>NaN</td>\n",
       "      <td>NaN</td>\n",
       "      <td>NaN</td>\n",
       "      <td>NaN</td>\n",
       "      <td>NaN</td>\n",
       "      <td>https://www.somewebsite.com/suzuki/swift/2015/...</td>\n",
       "    </tr>\n",
       "    <tr>\n",
       "      <th>1</th>\n",
       "      <td>2012-11-07</td>\n",
       "      <td>Aug 30 2016</td>\n",
       "      <td>11,983</td>\n",
       "      <td>12.120</td>\n",
       "      <td>$5.599</td>\n",
       "      <td>$67.86</td>\n",
       "      <td>31.6</td>\n",
       "      <td>NaN</td>\n",
       "      <td>https://www.somewebsite.com/bmw/x3/2009/461150</td>\n",
       "    </tr>\n",
       "    <tr>\n",
       "      <th>2</th>\n",
       "      <td>2012-09-22</td>\n",
       "      <td>Sep 28 2012</td>\n",
       "      <td>98,233</td>\n",
       "      <td>7.991</td>\n",
       "      <td>£5.45</td>\n",
       "      <td>£43.53</td>\n",
       "      <td>28.5</td>\n",
       "      <td>NaN</td>\n",
       "      <td>https://www.somewebsite.com/mercedes-benz/e300...</td>\n",
       "    </tr>\n",
       "    <tr>\n",
       "      <th>3</th>\n",
       "      <td>2019-05-04</td>\n",
       "      <td>May 4 2019</td>\n",
       "      <td>163,802</td>\n",
       "      <td>10.575</td>\n",
       "      <td>£5.11</td>\n",
       "      <td>£54.00</td>\n",
       "      <td>46.8</td>\n",
       "      <td>NaN</td>\n",
       "      <td>https://www.somewebsite.com/bmw/320d/2010/247233</td>\n",
       "    </tr>\n",
       "    <tr>\n",
       "      <th>4</th>\n",
       "      <td>2022-02-15</td>\n",
       "      <td>Feb 15 2022</td>\n",
       "      <td>NaN</td>\n",
       "      <td>11.651</td>\n",
       "      <td>$3.029</td>\n",
       "      <td>$35.29</td>\n",
       "      <td>21.0</td>\n",
       "      <td>244.4</td>\n",
       "      <td>https://www.somewebsite.com/honda/passport/201...</td>\n",
       "    </tr>\n",
       "  </tbody>\n",
       "</table>\n",
       "</div>"
      ],
      "text/plain": [
       "  date_fueled date_captured  odometer gallons cost_per_gallon total_spent  \\\n",
       "0  2022-04-07    Apr 7 2022   73,370      NaN             NaN         NaN   \n",
       "1  2012-11-07   Aug 30 2016   11,983   12.120          $5.599      $67.86   \n",
       "2  2012-09-22   Sep 28 2012   98,233    7.991           £5.45      £43.53   \n",
       "3  2019-05-04    May 4 2019  163,802   10.575           £5.11      £54.00   \n",
       "4  2022-02-15   Feb 15 2022       NaN  11.651          $3.029      $35.29   \n",
       "\n",
       "    mpg    miles                                           user_url  \n",
       "0   NaN      NaN  https://www.somewebsite.com/suzuki/swift/2015/...  \n",
       "1  31.6      NaN     https://www.somewebsite.com/bmw/x3/2009/461150  \n",
       "2  28.5      NaN  https://www.somewebsite.com/mercedes-benz/e300...  \n",
       "3  46.8      NaN   https://www.somewebsite.com/bmw/320d/2010/247233  \n",
       "4  21.0   244.4   https://www.somewebsite.com/honda/passport/201...  "
      ]
     },
     "execution_count": 6,
     "metadata": {},
     "output_type": "execute_result"
    }
   ],
   "source": [
    "\n",
    "df['date_fueled'] = pd.to_datetime(df['date_fueled'], errors='coerce')\n",
    "df.loc[~df['date_fueled'].dt.year.between(1900, 2099), 'date_fueled'] = pd.NaT\n",
    "print(\"3.\")\n",
    "df.head()"
   ]
  },
  {
   "cell_type": "code",
   "execution_count": 7,
   "id": "9187ac56",
   "metadata": {},
   "outputs": [
    {
     "name": "stdout",
     "output_type": "stream",
     "text": [
      "4. Removed dates that are in the future relative to 1st September 2025 and before 2005\n"
     ]
    },
    {
     "data": {
      "text/html": [
       "<div>\n",
       "<style scoped>\n",
       "    .dataframe tbody tr th:only-of-type {\n",
       "        vertical-align: middle;\n",
       "    }\n",
       "\n",
       "    .dataframe tbody tr th {\n",
       "        vertical-align: top;\n",
       "    }\n",
       "\n",
       "    .dataframe thead th {\n",
       "        text-align: right;\n",
       "    }\n",
       "</style>\n",
       "<table border=\"1\" class=\"dataframe\">\n",
       "  <thead>\n",
       "    <tr style=\"text-align: right;\">\n",
       "      <th></th>\n",
       "      <th>date_fueled</th>\n",
       "      <th>date_captured</th>\n",
       "      <th>odometer</th>\n",
       "      <th>gallons</th>\n",
       "      <th>cost_per_gallon</th>\n",
       "      <th>total_spent</th>\n",
       "      <th>mpg</th>\n",
       "      <th>miles</th>\n",
       "      <th>user_url</th>\n",
       "    </tr>\n",
       "  </thead>\n",
       "  <tbody>\n",
       "    <tr>\n",
       "      <th>0</th>\n",
       "      <td>2022-04-07</td>\n",
       "      <td>Apr 7 2022</td>\n",
       "      <td>73,370</td>\n",
       "      <td>NaN</td>\n",
       "      <td>NaN</td>\n",
       "      <td>NaN</td>\n",
       "      <td>NaN</td>\n",
       "      <td>NaN</td>\n",
       "      <td>https://www.somewebsite.com/suzuki/swift/2015/...</td>\n",
       "    </tr>\n",
       "    <tr>\n",
       "      <th>1</th>\n",
       "      <td>2012-11-07</td>\n",
       "      <td>Aug 30 2016</td>\n",
       "      <td>11,983</td>\n",
       "      <td>12.120</td>\n",
       "      <td>$5.599</td>\n",
       "      <td>$67.86</td>\n",
       "      <td>31.6</td>\n",
       "      <td>NaN</td>\n",
       "      <td>https://www.somewebsite.com/bmw/x3/2009/461150</td>\n",
       "    </tr>\n",
       "    <tr>\n",
       "      <th>2</th>\n",
       "      <td>2012-09-22</td>\n",
       "      <td>Sep 28 2012</td>\n",
       "      <td>98,233</td>\n",
       "      <td>7.991</td>\n",
       "      <td>£5.45</td>\n",
       "      <td>£43.53</td>\n",
       "      <td>28.5</td>\n",
       "      <td>NaN</td>\n",
       "      <td>https://www.somewebsite.com/mercedes-benz/e300...</td>\n",
       "    </tr>\n",
       "    <tr>\n",
       "      <th>3</th>\n",
       "      <td>2019-05-04</td>\n",
       "      <td>May 4 2019</td>\n",
       "      <td>163,802</td>\n",
       "      <td>10.575</td>\n",
       "      <td>£5.11</td>\n",
       "      <td>£54.00</td>\n",
       "      <td>46.8</td>\n",
       "      <td>NaN</td>\n",
       "      <td>https://www.somewebsite.com/bmw/320d/2010/247233</td>\n",
       "    </tr>\n",
       "    <tr>\n",
       "      <th>4</th>\n",
       "      <td>2022-02-15</td>\n",
       "      <td>Feb 15 2022</td>\n",
       "      <td>NaN</td>\n",
       "      <td>11.651</td>\n",
       "      <td>$3.029</td>\n",
       "      <td>$35.29</td>\n",
       "      <td>21.0</td>\n",
       "      <td>244.4</td>\n",
       "      <td>https://www.somewebsite.com/honda/passport/201...</td>\n",
       "    </tr>\n",
       "  </tbody>\n",
       "</table>\n",
       "</div>"
      ],
      "text/plain": [
       "  date_fueled date_captured  odometer gallons cost_per_gallon total_spent  \\\n",
       "0  2022-04-07    Apr 7 2022   73,370      NaN             NaN         NaN   \n",
       "1  2012-11-07   Aug 30 2016   11,983   12.120          $5.599      $67.86   \n",
       "2  2012-09-22   Sep 28 2012   98,233    7.991           £5.45      £43.53   \n",
       "3  2019-05-04    May 4 2019  163,802   10.575           £5.11      £54.00   \n",
       "4  2022-02-15   Feb 15 2022       NaN  11.651          $3.029      $35.29   \n",
       "\n",
       "    mpg    miles                                           user_url  \n",
       "0   NaN      NaN  https://www.somewebsite.com/suzuki/swift/2015/...  \n",
       "1  31.6      NaN     https://www.somewebsite.com/bmw/x3/2009/461150  \n",
       "2  28.5      NaN  https://www.somewebsite.com/mercedes-benz/e300...  \n",
       "3  46.8      NaN   https://www.somewebsite.com/bmw/320d/2010/247233  \n",
       "4  21.0   244.4   https://www.somewebsite.com/honda/passport/201...  "
      ]
     },
     "execution_count": 7,
     "metadata": {},
     "output_type": "execute_result"
    }
   ],
   "source": [
    "#Removing dates before 2005, and dates in the future relative to 1 Septemeber 2025\n",
    "min_date = pd.Timestamp(\"2005-01-01\")\n",
    "max_date = pd.Timestamp(\"2025-09-01\")\n",
    "mask = (df['date_fueled'] >= min_date) & (df['date_fueled'] <= max_date)\n",
    "df = df.loc[mask]\n",
    "\n",
    "print(\"4. Removed dates that are in the future relative to 1st September 2025 and before 2005\")\n",
    "df.head()"
   ]
  },
  {
   "cell_type": "code",
   "execution_count": 8,
   "id": "a8bd09aa",
   "metadata": {},
   "outputs": [
    {
     "data": {
      "text/plain": [
       "<seaborn.axisgrid.FacetGrid at 0x21285f24390>"
      ]
     },
     "execution_count": 8,
     "metadata": {},
     "output_type": "execute_result"
    },
    {
     "data": {
      "image/png": "[encoded data removed]",
      "text/plain": [
       "<Figure size 500x500 with 1 Axes>"
      ]
     },
     "metadata": {},
     "output_type": "display_data"
    }
   ],
   "source": [
    "sns.displot(df, x=\"date_fueled\", binwidth = 1000, color='pink')\n",
    "#make a comment on the distribution of the data."
   ]
  },
  {
   "cell_type": "markdown",
   "id": "e28cf371",
   "metadata": {},
   "source": [
    "## 1.2 Numeric Fields"
   ]
  },
  {
   "cell_type": "code",
   "execution_count": 9,
   "id": "7d6ceb9a",
   "metadata": {},
   "outputs": [
    {
     "name": "stdout",
     "output_type": "stream",
     "text": [
      "The percentage of missing gallons values is 6.32%\n",
      "The percentage of missing miles values is 87.55%\n",
      "The percentage of missing odometer values is 12.69%\n"
     ]
    }
   ],
   "source": [
    "#1.2\n",
    "gallons_null_count = df['gallons'].isnull().sum()\n",
    "gal_per = (gallons_null_count / len(df)) * 100\n",
    "print(f\"The percentage of missing gallons values is {gal_per:.2f}%\")\n",
    "\n",
    "miles_count = df['miles'].isnull().sum()\n",
    "miles_per = (miles_count / len(df)) * 100\n",
    "print(f\"The percentage of missing miles values is {miles_per:.2f}%\")\n",
    "\n",
    "odometer_count = df['odometer'].isnull().sum()\n",
    "odometer_per = (odometer_count/ len(df)) * 100\n",
    "print(f\"The percentage of missing odometer values is {odometer_per:.2f}%\")\n",
    "\n"
   ]
  },
  {
   "cell_type": "code",
   "execution_count": 10,
   "id": "c6f20004",
   "metadata": {},
   "outputs": [
    {
     "name": "stdout",
     "output_type": "stream",
     "text": [
      "3. Converting the numerical values to floats, after removing the commas: \n"
     ]
    }
   ],
   "source": [
    "#converting everything to a float\n",
    "print(\"3. Converting the numerical values to floats, after removing the commas: \")\n",
    "df['gallons'] = df['gallons'].str.replace(\",\", '').astype(float)\n",
    "df['mpg']= df['mpg'].str.replace(\",\", '').astype(float)\n",
    "df['miles'] = df['miles'].str.replace(\",\", '').astype(float)\n"
   ]
  },
  {
   "cell_type": "code",
   "execution_count": 11,
   "id": "db6ea9ea",
   "metadata": {},
   "outputs": [
    {
     "name": "stdout",
     "output_type": "stream",
     "text": [
      "2. Calculations of the other interdependant columns\n"
     ]
    },
    {
     "data": {
      "text/html": [
       "<div>\n",
       "<style scoped>\n",
       "    .dataframe tbody tr th:only-of-type {\n",
       "        vertical-align: middle;\n",
       "    }\n",
       "\n",
       "    .dataframe tbody tr th {\n",
       "        vertical-align: top;\n",
       "    }\n",
       "\n",
       "    .dataframe thead th {\n",
       "        text-align: right;\n",
       "    }\n",
       "</style>\n",
       "<table border=\"1\" class=\"dataframe\">\n",
       "  <thead>\n",
       "    <tr style=\"text-align: right;\">\n",
       "      <th></th>\n",
       "      <th>date_fueled</th>\n",
       "      <th>date_captured</th>\n",
       "      <th>odometer</th>\n",
       "      <th>gallons</th>\n",
       "      <th>cost_per_gallon</th>\n",
       "      <th>total_spent</th>\n",
       "      <th>mpg</th>\n",
       "      <th>miles</th>\n",
       "      <th>user_url</th>\n",
       "    </tr>\n",
       "  </thead>\n",
       "  <tbody>\n",
       "    <tr>\n",
       "      <th>1</th>\n",
       "      <td>2012-11-07</td>\n",
       "      <td>Aug 30 2016</td>\n",
       "      <td>11,983</td>\n",
       "      <td>12.120</td>\n",
       "      <td>$5.599</td>\n",
       "      <td>$67.86</td>\n",
       "      <td>31.6</td>\n",
       "      <td>382.9920</td>\n",
       "      <td>https://www.somewebsite.com/bmw/x3/2009/461150</td>\n",
       "    </tr>\n",
       "    <tr>\n",
       "      <th>2</th>\n",
       "      <td>2012-09-22</td>\n",
       "      <td>Sep 28 2012</td>\n",
       "      <td>98,233</td>\n",
       "      <td>7.991</td>\n",
       "      <td>£5.45</td>\n",
       "      <td>£43.53</td>\n",
       "      <td>28.5</td>\n",
       "      <td>227.7435</td>\n",
       "      <td>https://www.somewebsite.com/mercedes-benz/e300...</td>\n",
       "    </tr>\n",
       "    <tr>\n",
       "      <th>3</th>\n",
       "      <td>2019-05-04</td>\n",
       "      <td>May 4 2019</td>\n",
       "      <td>163,802</td>\n",
       "      <td>10.575</td>\n",
       "      <td>£5.11</td>\n",
       "      <td>£54.00</td>\n",
       "      <td>46.8</td>\n",
       "      <td>494.9100</td>\n",
       "      <td>https://www.somewebsite.com/bmw/320d/2010/247233</td>\n",
       "    </tr>\n",
       "    <tr>\n",
       "      <th>4</th>\n",
       "      <td>2022-02-15</td>\n",
       "      <td>Feb 15 2022</td>\n",
       "      <td>NaN</td>\n",
       "      <td>11.651</td>\n",
       "      <td>$3.029</td>\n",
       "      <td>$35.29</td>\n",
       "      <td>21.0</td>\n",
       "      <td>244.6710</td>\n",
       "      <td>https://www.somewebsite.com/honda/passport/201...</td>\n",
       "    </tr>\n",
       "    <tr>\n",
       "      <th>5</th>\n",
       "      <td>2021-10-23</td>\n",
       "      <td>Oct 23 2021</td>\n",
       "      <td>147,567</td>\n",
       "      <td>3.413</td>\n",
       "      <td>$3.739</td>\n",
       "      <td>$12.76</td>\n",
       "      <td>29.0</td>\n",
       "      <td>98.9770</td>\n",
       "      <td>https://www.somewebsite.com/volkswagen/passat/...</td>\n",
       "    </tr>\n",
       "  </tbody>\n",
       "</table>\n",
       "</div>"
      ],
      "text/plain": [
       "  date_fueled date_captured  odometer  gallons cost_per_gallon total_spent  \\\n",
       "1  2012-11-07   Aug 30 2016   11,983    12.120          $5.599      $67.86   \n",
       "2  2012-09-22   Sep 28 2012   98,233     7.991           £5.45      £43.53   \n",
       "3  2019-05-04    May 4 2019  163,802    10.575           £5.11      £54.00   \n",
       "4  2022-02-15   Feb 15 2022       NaN   11.651          $3.029      $35.29   \n",
       "5  2021-10-23   Oct 23 2021  147,567     3.413          $3.739      $12.76   \n",
       "\n",
       "    mpg     miles                                           user_url  \n",
       "1  31.6  382.9920     https://www.somewebsite.com/bmw/x3/2009/461150  \n",
       "2  28.5  227.7435  https://www.somewebsite.com/mercedes-benz/e300...  \n",
       "3  46.8  494.9100   https://www.somewebsite.com/bmw/320d/2010/247233  \n",
       "4  21.0  244.6710  https://www.somewebsite.com/honda/passport/201...  \n",
       "5  29.0   98.9770  https://www.somewebsite.com/volkswagen/passat/...  "
      ]
     },
     "execution_count": 11,
     "metadata": {},
     "output_type": "execute_result"
    }
   ],
   "source": [
    "print(\"2. Calculations of the other interdependant columns\")\n",
    "\n",
    "df = df.dropna(subset=['miles', 'gallons', 'mpg'], thresh=2)\n",
    "df['miles'] = df['gallons']*df['mpg']\n",
    "df['gallons'] = df['miles']/df['mpg']\n",
    "df['mpg'] = df['miles']/df['gallons']\n",
    "\n",
    "df.head()"
   ]
  },
  {
   "cell_type": "code",
   "execution_count": 12,
   "id": "0b25f81f",
   "metadata": {},
   "outputs": [
    {
     "data": {
      "image/png": "[encoded data removed]",
      "text/plain": [
       "<Figure size 1500x400 with 3 Axes>"
      ]
     },
     "metadata": {},
     "output_type": "display_data"
    }
   ],
   "source": [
    "fig, axes = plt.subplots(1, 3, figsize=(15, 4))\n",
    "\n",
    "df['miles'].plot(kind='hist', bins=50, ax=axes[0], title='Miles', log=True, color='pink')\n",
    "df['gallons'].plot(kind='hist', bins=50, ax=axes[1], title='Gallons',log=True, color='pink')\n",
    "df['mpg'].plot(kind='hist', bins=50, ax=axes[2], title='MPG', log=True, color='pink')\n",
    "\n",
    "plt.show()\n"
   ]
  },
  {
   "cell_type": "code",
   "execution_count": 13,
   "id": "baf0c4bf",
   "metadata": {},
   "outputs": [
    {
     "data": {
      "text/html": [
       "<div>\n",
       "<style scoped>\n",
       "    .dataframe tbody tr th:only-of-type {\n",
       "        vertical-align: middle;\n",
       "    }\n",
       "\n",
       "    .dataframe tbody tr th {\n",
       "        vertical-align: top;\n",
       "    }\n",
       "\n",
       "    .dataframe thead th {\n",
       "        text-align: right;\n",
       "    }\n",
       "</style>\n",
       "<table border=\"1\" class=\"dataframe\">\n",
       "  <thead>\n",
       "    <tr style=\"text-align: right;\">\n",
       "      <th></th>\n",
       "      <th>date_fueled</th>\n",
       "      <th>gallons</th>\n",
       "      <th>mpg</th>\n",
       "      <th>miles</th>\n",
       "    </tr>\n",
       "  </thead>\n",
       "  <tbody>\n",
       "    <tr>\n",
       "      <th>count</th>\n",
       "      <td>297676</td>\n",
       "      <td>160725.000000</td>\n",
       "      <td>160723.000000</td>\n",
       "      <td>184008.000000</td>\n",
       "    </tr>\n",
       "    <tr>\n",
       "      <th>mean</th>\n",
       "      <td>2018-09-23 02:41:04.112659456</td>\n",
       "      <td>12.953728</td>\n",
       "      <td>25.418163</td>\n",
       "      <td>264.498808</td>\n",
       "    </tr>\n",
       "    <tr>\n",
       "      <th>min</th>\n",
       "      <td>2005-01-02 00:00:00</td>\n",
       "      <td>0.000000</td>\n",
       "      <td>0.100000</td>\n",
       "      <td>0.000000</td>\n",
       "    </tr>\n",
       "    <tr>\n",
       "      <th>25%</th>\n",
       "      <td>2016-05-12 00:00:00</td>\n",
       "      <td>9.490000</td>\n",
       "      <td>18.200000</td>\n",
       "      <td>180.110850</td>\n",
       "    </tr>\n",
       "    <tr>\n",
       "      <th>50%</th>\n",
       "      <td>2019-10-10 00:00:00</td>\n",
       "      <td>12.280000</td>\n",
       "      <td>23.300000</td>\n",
       "      <td>266.747450</td>\n",
       "    </tr>\n",
       "    <tr>\n",
       "      <th>75%</th>\n",
       "      <td>2021-09-10 00:00:00</td>\n",
       "      <td>15.113000</td>\n",
       "      <td>29.800000</td>\n",
       "      <td>342.454250</td>\n",
       "    </tr>\n",
       "    <tr>\n",
       "      <th>max</th>\n",
       "      <td>2025-04-20 00:00:00</td>\n",
       "      <td>16378.667000</td>\n",
       "      <td>1214.300000</td>\n",
       "      <td>50356.800000</td>\n",
       "    </tr>\n",
       "    <tr>\n",
       "      <th>std</th>\n",
       "      <td>NaN</td>\n",
       "      <td>42.923320</td>\n",
       "      <td>14.909832</td>\n",
       "      <td>235.476993</td>\n",
       "    </tr>\n",
       "  </tbody>\n",
       "</table>\n",
       "</div>"
      ],
      "text/plain": [
       "                         date_fueled        gallons            mpg  \\\n",
       "count                         297676  160725.000000  160723.000000   \n",
       "mean   2018-09-23 02:41:04.112659456      12.953728      25.418163   \n",
       "min              2005-01-02 00:00:00       0.000000       0.100000   \n",
       "25%              2016-05-12 00:00:00       9.490000      18.200000   \n",
       "50%              2019-10-10 00:00:00      12.280000      23.300000   \n",
       "75%              2021-09-10 00:00:00      15.113000      29.800000   \n",
       "max              2025-04-20 00:00:00   16378.667000    1214.300000   \n",
       "std                              NaN      42.923320      14.909832   \n",
       "\n",
       "               miles  \n",
       "count  184008.000000  \n",
       "mean      264.498808  \n",
       "min         0.000000  \n",
       "25%       180.110850  \n",
       "50%       266.747450  \n",
       "75%       342.454250  \n",
       "max     50356.800000  \n",
       "std       235.476993  "
      ]
     },
     "execution_count": 13,
     "metadata": {},
     "output_type": "execute_result"
    }
   ],
   "source": [
    "df.describe()"
   ]
  },
  {
   "cell_type": "code",
   "execution_count": 14,
   "id": "0cc165fd",
   "metadata": {},
   "outputs": [
    {
     "data": {
      "text/html": [
       "<div>\n",
       "<style scoped>\n",
       "    .dataframe tbody tr th:only-of-type {\n",
       "        vertical-align: middle;\n",
       "    }\n",
       "\n",
       "    .dataframe tbody tr th {\n",
       "        vertical-align: top;\n",
       "    }\n",
       "\n",
       "    .dataframe thead th {\n",
       "        text-align: right;\n",
       "    }\n",
       "</style>\n",
       "<table border=\"1\" class=\"dataframe\">\n",
       "  <thead>\n",
       "    <tr style=\"text-align: right;\">\n",
       "      <th></th>\n",
       "      <th>date_captured</th>\n",
       "      <th>odometer</th>\n",
       "      <th>cost_per_gallon</th>\n",
       "      <th>total_spent</th>\n",
       "      <th>user_url</th>\n",
       "    </tr>\n",
       "  </thead>\n",
       "  <tbody>\n",
       "    <tr>\n",
       "      <th>count</th>\n",
       "      <td>297676</td>\n",
       "      <td>159572</td>\n",
       "      <td>294531</td>\n",
       "      <td>297676</td>\n",
       "      <td>297676</td>\n",
       "    </tr>\n",
       "    <tr>\n",
       "      <th>unique</th>\n",
       "      <td>4975</td>\n",
       "      <td>114711</td>\n",
       "      <td>23630</td>\n",
       "      <td>75926</td>\n",
       "      <td>94199</td>\n",
       "    </tr>\n",
       "    <tr>\n",
       "      <th>top</th>\n",
       "      <td>Aug 31 2016</td>\n",
       "      <td>8,201</td>\n",
       "      <td>$2.999</td>\n",
       "      <td>$0.00</td>\n",
       "      <td>https://www.somewebsite.com/citroen/ax/1997/52159</td>\n",
       "    </tr>\n",
       "    <tr>\n",
       "      <th>freq</th>\n",
       "      <td>723</td>\n",
       "      <td>8</td>\n",
       "      <td>3478</td>\n",
       "      <td>2426</td>\n",
       "      <td>23</td>\n",
       "    </tr>\n",
       "  </tbody>\n",
       "</table>\n",
       "</div>"
      ],
      "text/plain": [
       "       date_captured odometer cost_per_gallon total_spent  \\\n",
       "count         297676   159572          294531      297676   \n",
       "unique          4975   114711           23630       75926   \n",
       "top      Aug 31 2016   8,201           $2.999       $0.00   \n",
       "freq             723        8            3478        2426   \n",
       "\n",
       "                                                 user_url  \n",
       "count                                              297676  \n",
       "unique                                              94199  \n",
       "top     https://www.somewebsite.com/citroen/ax/1997/52159  \n",
       "freq                                                   23  "
      ]
     },
     "execution_count": 14,
     "metadata": {},
     "output_type": "execute_result"
    }
   ],
   "source": [
    "\n",
    "df.describe(include=['O'], exclude=None)\n"
   ]
  },
  {
   "cell_type": "markdown",
   "id": "04328fc9",
   "metadata": {},
   "source": [
    "# Question 2"
   ]
  },
  {
   "cell_type": "code",
   "execution_count": 15,
   "id": "745cc11f",
   "metadata": {},
   "outputs": [],
   "source": [
    "# 2.1\n",
    "def extract_currency(value):\n",
    "    if pd.isnull(value):\n",
    "        return None\n",
    "    match = re.match(r\"^([^\\d.]+)\", str(value))  \n",
    "    return match.group(1).strip() if match else None\n",
    "\n",
    "df[\"currency\"] = df[\"total_spent\"].apply(extract_currency)"
   ]
  },
  {
   "cell_type": "code",
   "execution_count": 16,
   "id": "3fbc8f07",
   "metadata": {},
   "outputs": [],
   "source": [
    "# 2.2\n",
    "\n",
    "def to_float(value):\n",
    "    if pd.isnull(value):\n",
    "        return None\n",
    "    cleaned = re.sub(r\"[^\\d.]\", \"\", str(value))  # keep only numbers and dot\n",
    "    try:\n",
    "        return float(cleaned)\n",
    "    except ValueError:\n",
    "        return None\n",
    "\n",
    "df[\"total_spent_float\"] = df[\"total_spent\"].apply(to_float)\n",
    "df[\"cost_per_gallon_float\"] = df[\"cost_per_gallon\"].apply(to_float)"
   ]
  },
  {
   "cell_type": "code",
   "execution_count": 17,
   "id": "4db264d4",
   "metadata": {},
   "outputs": [],
   "source": [
    "# 2.3\n",
    "\n",
    "def parse_user_url(url):\n",
    "    try:\n",
    "        parts = url.strip(\"/\").split(\"/\")\n",
    "        user_id = parts[-1]\n",
    "        car_make, car_model, car_year = None, None, None\n",
    "        if \"car\" in parts:\n",
    "            idx = parts.index(\"car\")\n",
    "            if len(parts) > idx + 3:\n",
    "                car_make = parts[idx + 1]\n",
    "                car_model = parts[idx + 2]\n",
    "                car_year = parts[idx + 3] if parts[idx + 3].isdigit() else None\n",
    "        return pd.Series([car_make, car_model, car_year, user_id])\n",
    "    except:\n",
    "        return pd.Series([None, None, None, None])\n",
    "\n",
    "df[[\"car_make\", \"car_model\", \"car_year\", \"user_id\"]] = df[\"user_url\"].apply(parse_user_url)"
   ]
  },
  {
   "cell_type": "code",
   "execution_count": 18,
   "id": "0eb4844d",
   "metadata": {},
   "outputs": [],
   "source": [
    "# 2.4 \n",
    "\n",
    "df[\"litres_filled\"] = pd.to_numeric(df[\"gallons\"], errors=\"coerce\") * 3.78541\n",
    "df[\"km_driven\"] = pd.to_numeric(df[\"miles\"], errors=\"coerce\") * 1.60934\n",
    "df[\"litres_per_100km\"] = (df[\"litres_filled\"] / df[\"km_driven\"]) * 100"
   ]
  },
  {
   "cell_type": "code",
   "execution_count": 19,
   "id": "099a0049",
   "metadata": {},
   "outputs": [
    {
     "name": "stdout",
     "output_type": "stream",
     "text": [
      "  currency  total_spent_float  cost_per_gallon_float car_make car_model  \\\n",
      "1        $              67.86                  5.599     None      None   \n",
      "2        £              43.53                  5.450     None      None   \n",
      "3        £              54.00                  5.110     None      None   \n",
      "4        $              35.29                  3.029     None      None   \n",
      "5        $              12.76                  3.739     None      None   \n",
      "\n",
      "  car_year  user_id  litres_filled   km_driven  litres_per_100km  \n",
      "1     None   461150      45.879169  616.364345          7.443514  \n",
      "2     None   133501      30.249211  366.516724          8.253160  \n",
      "3     None   247233      40.030711  796.478459          5.025963  \n",
      "4     None  1038865      44.103812  393.758827         11.200717  \n",
      "5     None   445811      12.919604  159.287645          8.110864  \n"
     ]
    }
   ],
   "source": [
    "print(df[[\n",
    "    \"currency\", \"total_spent_float\", \"cost_per_gallon_float\",\n",
    "    \"car_make\", \"car_model\", \"car_year\", \"user_id\",\n",
    "    \"litres_filled\", \"km_driven\", \"litres_per_100km\"\n",
    "]].head())"
   ]
  },
  {
   "cell_type": "markdown",
   "id": "fede1898",
   "metadata": {},
   "source": [
    "# Question 3"
   ]
  },
  {
   "cell_type": "markdown",
   "id": "7a1f6c6e",
   "metadata": {},
   "source": [
    "##### 3.1"
   ]
  },
  {
   "cell_type": "code",
   "execution_count": 20,
   "id": "eaba7dcf",
   "metadata": {},
   "outputs": [
    {
     "data": {
      "image/png": "[encoded data removed]",
      "text/plain": [
       "<Figure size 1500x600 with 1 Axes>"
      ]
     },
     "metadata": {},
     "output_type": "display_data"
    }
   ],
   "source": [
    "#print (df[\"currency\"].unique())\n",
    "unique_users = df.groupby('currency')['user_id'].nunique()\n",
    "\n",
    "fig, ax = plt.subplots(figsize=(15,6))\n",
    "unique_users.plot(kind='bar', ax=ax, color='pink', log=True) \n",
    "\n",
    "ax.set_xlabel(\"Currency (proxy for country)\")\n",
    "ax.set_ylabel(\"Number of Unique Users\")\n",
    "ax.set_title(\"Number of Unique Users per Country \")\n",
    "ax.tick_params(axis='x', labelsize=6)\n",
    "\n",
    "plt.show()"
   ]
  },
  {
   "cell_type": "markdown",
   "id": "b0d9f350",
   "metadata": {},
   "source": [
    "##### 3.2"
   ]
  },
  {
   "cell_type": "code",
   "execution_count": 21,
   "id": "9ed34500",
   "metadata": {},
   "outputs": [
    {
     "data": {
      "image/png": "[encoded data removed]",
      "text/plain": [
       "<Figure size 1500x600 with 1 Axes>"
      ]
     },
     "metadata": {},
     "output_type": "display_data"
    }
   ],
   "source": [
    "df['date_captured']=pd.to_datetime(df['date_captured'])\n",
    "df['day']=df['date_captured'].dt.date\n",
    "\n",
    "unique_user_by_day= df.groupby('day')['user_id'].nunique()\n",
    "\n",
    "fig, ax = plt.subplots(figsize=(15,6))\n",
    "unique_user_by_day.plot(kind='line', title= \"Number of Unique Users per Day\", color='purple')\n",
    "\n",
    "ax.set_xlabel(\"Day\")\n",
    "ax.set_ylabel(\"Number of Unique Users\")\n",
    "ax.tick_params(axis='x', labelsize=6)\n",
    "\n",
    "plt.show()"
   ]
  },
  {
   "cell_type": "markdown",
   "id": "94274418",
   "metadata": {},
   "source": [
    "##### 3.3"
   ]
  },
  {
   "cell_type": "code",
   "execution_count": 24,
   "id": "c1dab182",
   "metadata": {},
   "outputs": [
    {
     "data": {
      "image/png": "[encoded data removed]",
      "text/plain": [
       "<Figure size 1500x600 with 1 Axes>"
      ]
     },
     "metadata": {},
     "output_type": "display_data"
    }
   ],
   "source": [
    "'''''\n",
    "def parse_user_url(url):\n",
    "    try:\n",
    "        parts = url.strip(\"/\").split(\"/\")\n",
    "        user_id = parts[-1]\n",
    "        if len(parts) >= 4:\n",
    "            car_make = parts[3].capitalize()\n",
    "            car_model = parts[4].upper()\n",
    "            car_year = int(parts[5]) if parts[5].isdigit() else None\n",
    "        else:\n",
    "            car_make, car_model, car_year = None, None, None\n",
    "        \n",
    "        return pd.Series([car_make, car_model, car_year, user_id])\n",
    "    \n",
    "    except IndexError:\n",
    "        return pd.Series([None, None, None, None])\n",
    "    \n",
    "df[[\"car_make\", \"car_model\", \"car_year\", \"user_id\"]] = df[\"user_url\"].apply(parse_user_url)\n",
    "print(df[[\"car_make\", \"car_model\", \"car_year\", \"user_id\"]])\n",
    "'''''\n",
    "\n",
    "\n",
    "\n",
    "\n",
    "\n",
    "df['date_fueled']=pd.to_datetime(df['date_fueled'])\n",
    "df['age'] = df['date_fueled'].dt.year - df['car_year']\n",
    "top_currencies = df['currency'].value_counts().head(20).index\n",
    "df_top = df[df['currency'].isin(top_currencies)]\n",
    "\n",
    "plt.figure(figsize=(15,6))\n",
    "sns.violinplot(x='currency', y='age', data=df_top)\n",
    "plt.xticks(rotation=90)\n",
    "plt.xlabel('Currency (proxy for country)')\n",
    "plt.ylabel('Vehicle Age')\n",
    "plt.title('Distribution of the Age of Vehicles per Country')\n",
    "plt.show()"
   ]
  },
  {
   "cell_type": "markdown",
   "id": "feb7e64f",
   "metadata": {},
   "source": [
    "##### 3.4"
   ]
  },
  {
   "cell_type": "code",
   "execution_count": 23,
   "id": "f3837069",
   "metadata": {},
   "outputs": [
    {
     "data": {
      "image/png": "[encoded data removed]",
      "text/plain": [
       "<Figure size 800x800 with 1 Axes>"
      ]
     },
     "metadata": {},
     "output_type": "display_data"
    },
    {
     "data": {
      "image/png": "[encoded data removed]",
      "text/plain": [
       "<Figure size 600x600 with 1 Axes>"
      ]
     },
     "metadata": {},
     "output_type": "display_data"
    }
   ],
   "source": [
    "car_makes = df['car_make'].value_counts()\n",
    "top_50_car_makes = car_makes.nlargest(20)\n",
    "\n",
    "top_50_car_makes.plot.pie(autopct='%1.1f%%', startangle=90, figsize=(8, 8), textprops={'fontsize': 5})\n",
    "plt.title('Most Popular Car Makes')\n",
    "plt.ylabel('') \n",
    "plt.show()\n",
    "\n",
    "car_models = df['car_model'].value_counts()\n",
    "#print(car_models)\n",
    "top_50_car_models = car_models.nlargest(20)\n",
    "\n",
    "top_50_car_models.plot.pie(autopct='%1.1f%%', startangle=90, figsize=(6, 6), textprops={'fontsize': 5})\n",
    "plt.title('Most Popular Car Models')\n",
    "plt.ylabel('') \n",
    "plt.show()\n",
    "\n"
   ]
  },
  {
   "cell_type": "markdown",
   "id": "f4eb52d3",
   "metadata": {},
   "source": [
    "# Question 4"
   ]
  },
  {
   "cell_type": "markdown",
   "id": "1ab280bd",
   "metadata": {},
   "source": [
    "## 4.1 Outlier Removal"
   ]
  },
  {
   "cell_type": "code",
   "execution_count": 40,
   "id": "f23e766b",
   "metadata": {},
   "outputs": [
    {
     "name": "stdout",
     "output_type": "stream",
     "text": [
      "The top 5 currencies, are from America, United Kingdom, Canada, Europe and South Afirca given by: [currency\n",
      "$      183120\n",
      "£       36613\n",
      "CA$     17953\n",
      "€       15126\n",
      "R        9652\n",
      "Name: count, dtype: int64] \n"
     ]
    }
   ],
   "source": [
    "#find the number of transactions for each currency and then report the top 5\n",
    "#ask chat to format it correctly\n",
    "top_currencies = []\n",
    "array = df['currency'].value_counts(dropna=True)\n",
    "top_currencies.append(array[0:5])\n",
    "print(f\"The top 5 currencies, are from America, United Kingdom, Canada, Europe and South Afirca given by: {top_currencies} \")"
   ]
  },
  {
   "cell_type": "code",
   "execution_count": null,
   "id": "4c68bf70",
   "metadata": {},
   "outputs": [],
   "source": []
  }
 ],
 "metadata": {
  "kernelspec": {
   "display_name": ".venv (3.11.2)",
   "language": "python",
   "name": "python3"
  },
  "language_info": {
   "codemirror_mode": {
    "name": "ipython",
    "version": 3
   },
   "file_extension": ".py",
   "mimetype": "text/x-python",
   "name": "python",
   "nbconvert_exporter": "python",
   "pygments_lexer": "ipython3",
   "version": "3.11.2"
  }
 },
 "nbformat": 4,
 "nbformat_minor": 5
}
